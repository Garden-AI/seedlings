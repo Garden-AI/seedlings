{
  "nbformat": 4,
  "nbformat_minor": 0,
  "metadata": {
    "colab": {
      "provenance": []
    },
    "kernelspec": {
      "name": "python3",
      "display_name": "Python 3"
    },
    "language_info": {
      "name": "python"
    },
    "widgets": {
      "application/vnd.jupyter.widget-state+json": {
        "85647dadf57f40149f622633db809e11": {
          "model_module": "@jupyter-widgets/output",
          "model_name": "OutputModel",
          "model_module_version": "1.0.0",
          "state": {
            "_dom_classes": [],
            "_model_module": "@jupyter-widgets/output",
            "_model_module_version": "1.0.0",
            "_model_name": "OutputModel",
            "_view_count": null,
            "_view_module": "@jupyter-widgets/output",
            "_view_module_version": "1.0.0",
            "_view_name": "OutputView",
            "layout": "IPY_MODEL_811db472d0f54a1a8d24bae9de40fedf",
            "msg_id": "",
            "outputs": [
              {
                "output_type": "display_data",
                "data": {
                  "text/plain": "\u001b[32m⠸\u001b[0m \u001b[1;32m executing remotely on endpoint 86a47061-f3d9-44f0-90dc-56ddc642c000\u001b[0m\n",
                  "text/html": "<pre style=\"white-space:pre;overflow-x:auto;line-height:normal;font-family:Menlo,'DejaVu Sans Mono',consolas,'Courier New',monospace\"><span style=\"color: #008000; text-decoration-color: #008000\">⠸</span> <span style=\"color: #008000; text-decoration-color: #008000; font-weight: bold\"> executing remotely on endpoint 86a47061-f3d9-44f0-90dc-56ddc642c000</span>\n</pre>\n"
                },
                "metadata": {}
              }
            ]
          }
        },
        "811db472d0f54a1a8d24bae9de40fedf": {
          "model_module": "@jupyter-widgets/base",
          "model_name": "LayoutModel",
          "model_module_version": "1.2.0",
          "state": {
            "_model_module": "@jupyter-widgets/base",
            "_model_module_version": "1.2.0",
            "_model_name": "LayoutModel",
            "_view_count": null,
            "_view_module": "@jupyter-widgets/base",
            "_view_module_version": "1.2.0",
            "_view_name": "LayoutView",
            "align_content": null,
            "align_items": null,
            "align_self": null,
            "border": null,
            "bottom": null,
            "display": null,
            "flex": null,
            "flex_flow": null,
            "grid_area": null,
            "grid_auto_columns": null,
            "grid_auto_flow": null,
            "grid_auto_rows": null,
            "grid_column": null,
            "grid_gap": null,
            "grid_row": null,
            "grid_template_areas": null,
            "grid_template_columns": null,
            "grid_template_rows": null,
            "height": null,
            "justify_content": null,
            "justify_items": null,
            "left": null,
            "margin": null,
            "max_height": null,
            "max_width": null,
            "min_height": null,
            "min_width": null,
            "object_fit": null,
            "object_position": null,
            "order": null,
            "overflow": null,
            "overflow_x": null,
            "overflow_y": null,
            "padding": null,
            "right": null,
            "top": null,
            "visibility": null,
            "width": null
          }
        }
      }
    }
  },
  "cells": [
    {
      "cell_type": "markdown",
      "source": [
        "## Step 1: Train your model"
      ],
      "metadata": {
        "id": "edyTDAe1bdnu"
      }
    },
    {
      "cell_type": "code",
      "source": [
        "!pip install garden-ai"
      ],
      "metadata": {
        "id": "47V13IX-FNg2"
      },
      "execution_count": null,
      "outputs": []
    },
    {
      "cell_type": "code",
      "execution_count": 1,
      "metadata": {
        "colab": {
          "base_uri": "https://localhost:8080/"
        },
        "id": "XI8Ljm8DCdj9",
        "outputId": "1f8c5606-a482-4906-9d6f-f89ea5fbcac0"
      },
      "outputs": [
        {
          "output_type": "stream",
          "name": "stdout",
          "text": [
            "TensorFlow version: 2.12.0\n"
          ]
        }
      ],
      "source": [
        "import tensorflow as tf\n",
        "print(\"TensorFlow version:\", tf.__version__)"
      ]
    },
    {
      "cell_type": "code",
      "source": [
        "mnist = tf.keras.datasets.mnist\n",
        "\n",
        "(x_train, y_train), (x_test, y_test) = mnist.load_data()\n",
        "x_train, x_test = x_train / 255.0, x_test / 255.0"
      ],
      "metadata": {
        "colab": {
          "base_uri": "https://localhost:8080/"
        },
        "id": "OIE8g_2bCiFX",
        "outputId": "4fda7062-6b17-4248-d26d-2e6079494dbc"
      },
      "execution_count": 2,
      "outputs": [
        {
          "output_type": "stream",
          "name": "stdout",
          "text": [
            "Downloading data from https://storage.googleapis.com/tensorflow/tf-keras-datasets/mnist.npz\n",
            "11490434/11490434 [==============================] - 0s 0us/step\n"
          ]
        }
      ]
    },
    {
      "cell_type": "code",
      "source": [
        "model = tf.keras.models.Sequential([\n",
        "  tf.keras.layers.Flatten(input_shape=(28, 28)),\n",
        "  tf.keras.layers.Dense(128, activation='relu'),\n",
        "  tf.keras.layers.Dropout(0.2),\n",
        "  tf.keras.layers.Dense(10)\n",
        "])"
      ],
      "metadata": {
        "id": "8HpqNiBzCmr9"
      },
      "execution_count": 3,
      "outputs": []
    },
    {
      "cell_type": "code",
      "source": [
        "predictions = model(x_train[:1]).numpy()\n",
        "predictions"
      ],
      "metadata": {
        "colab": {
          "base_uri": "https://localhost:8080/"
        },
        "id": "cgkbA03gCp-A",
        "outputId": "59fd6daf-fa11-45b4-a67f-f25bc5b01c0b"
      },
      "execution_count": 4,
      "outputs": [
        {
          "output_type": "execute_result",
          "data": {
            "text/plain": [
              "array([[ 0.03899014,  0.06659982, -0.610887  ,  1.287015  , -0.736691  ,\n",
              "        -0.46360427, -0.8647197 , -0.48179212,  0.0216336 ,  0.4702802 ]],\n",
              "      dtype=float32)"
            ]
          },
          "metadata": {},
          "execution_count": 4
        }
      ]
    },
    {
      "cell_type": "code",
      "source": [
        "tf.nn.softmax(predictions).numpy()"
      ],
      "metadata": {
        "colab": {
          "base_uri": "https://localhost:8080/"
        },
        "id": "psJV6JCQCtd0",
        "outputId": "13359040-6309-41c0-a7f7-03e1a548ee7c"
      },
      "execution_count": 5,
      "outputs": [
        {
          "output_type": "execute_result",
          "data": {
            "text/plain": [
              "array([[0.09416139, 0.09679738, 0.0491626 , 0.32800704, 0.04335097,\n",
              "        0.0569638 , 0.03814141, 0.05593711, 0.09254119, 0.14493717]],\n",
              "      dtype=float32)"
            ]
          },
          "metadata": {},
          "execution_count": 5
        }
      ]
    },
    {
      "cell_type": "code",
      "source": [
        "loss_fn = tf.keras.losses.SparseCategoricalCrossentropy(from_logits=True)"
      ],
      "metadata": {
        "id": "oogvXk9HCvD4"
      },
      "execution_count": 6,
      "outputs": []
    },
    {
      "cell_type": "code",
      "source": [
        "loss_fn(y_train[:1], predictions).numpy()"
      ],
      "metadata": {
        "colab": {
          "base_uri": "https://localhost:8080/"
        },
        "id": "zYW1zfcZCwcJ",
        "outputId": "75b23b35-8d6a-4817-a283-d9bceec08a85"
      },
      "execution_count": 7,
      "outputs": [
        {
          "output_type": "execute_result",
          "data": {
            "text/plain": [
              "2.8653393"
            ]
          },
          "metadata": {},
          "execution_count": 7
        }
      ]
    },
    {
      "cell_type": "code",
      "source": [
        "model.compile(optimizer='adam',\n",
        "              loss=loss_fn,\n",
        "              metrics=['accuracy'])"
      ],
      "metadata": {
        "id": "zUPQicpgCyCb"
      },
      "execution_count": 8,
      "outputs": []
    },
    {
      "cell_type": "code",
      "source": [
        "model.fit(x_train, y_train, epochs=5)"
      ],
      "metadata": {
        "colab": {
          "base_uri": "https://localhost:8080/"
        },
        "id": "12OSl2bSC1Uq",
        "outputId": "2079119d-0b2c-4ab0-b56e-3e49a4c07aa6"
      },
      "execution_count": 9,
      "outputs": [
        {
          "output_type": "stream",
          "name": "stdout",
          "text": [
            "Epoch 1/5\n",
            "1875/1875 [==============================] - 10s 4ms/step - loss: 0.2942 - accuracy: 0.9150\n",
            "Epoch 2/5\n",
            "1875/1875 [==============================] - 9s 5ms/step - loss: 0.1419 - accuracy: 0.9589\n",
            "Epoch 3/5\n",
            "1875/1875 [==============================] - 9s 5ms/step - loss: 0.1081 - accuracy: 0.9673\n",
            "Epoch 4/5\n",
            "1875/1875 [==============================] - 8s 4ms/step - loss: 0.0869 - accuracy: 0.9726\n",
            "Epoch 5/5\n",
            "1875/1875 [==============================] - 9s 5ms/step - loss: 0.0741 - accuracy: 0.9763\n"
          ]
        },
        {
          "output_type": "execute_result",
          "data": {
            "text/plain": [
              "<keras.callbacks.History at 0x7f1e7f4eeb60>"
            ]
          },
          "metadata": {},
          "execution_count": 9
        }
      ]
    },
    {
      "cell_type": "code",
      "source": [
        "model.evaluate(x_test,  y_test, verbose=2)"
      ],
      "metadata": {
        "colab": {
          "base_uri": "https://localhost:8080/"
        },
        "id": "SBD7hc9SC21g",
        "outputId": "a3f881aa-01f1-43e0-dae4-5f768ed17fd2"
      },
      "execution_count": 10,
      "outputs": [
        {
          "output_type": "stream",
          "name": "stdout",
          "text": [
            "313/313 - 2s - loss: 0.0771 - accuracy: 0.9764 - 2s/epoch - 5ms/step\n"
          ]
        },
        {
          "output_type": "execute_result",
          "data": {
            "text/plain": [
              "[0.07706169784069061, 0.9764000177383423]"
            ]
          },
          "metadata": {},
          "execution_count": 10
        }
      ]
    },
    {
      "cell_type": "code",
      "source": [
        "probability_model = tf.keras.Sequential([\n",
        "  model,\n",
        "  tf.keras.layers.Softmax()\n",
        "])"
      ],
      "metadata": {
        "id": "i7dwk6PvDJzU"
      },
      "execution_count": 11,
      "outputs": []
    },
    {
      "cell_type": "code",
      "source": [
        "preds = probability_model(x_test[:5])"
      ],
      "metadata": {
        "id": "NzGa8QMYDLEN"
      },
      "execution_count": 14,
      "outputs": []
    },
    {
      "cell_type": "code",
      "source": [
        "tf.math.argmax(preds, 1)"
      ],
      "metadata": {
        "colab": {
          "base_uri": "https://localhost:8080/"
        },
        "id": "aQtTpY8dDTUu",
        "outputId": "50f925fa-1804-4a8d-a889-412c78b4ff65"
      },
      "execution_count": 18,
      "outputs": [
        {
          "output_type": "execute_result",
          "data": {
            "text/plain": [
              "<tf.Tensor: shape=(5,), dtype=int64, numpy=array([7, 2, 1, 0, 4])>"
            ]
          },
          "metadata": {},
          "execution_count": 18
        }
      ]
    },
    {
      "cell_type": "code",
      "source": [
        "preds"
      ],
      "metadata": {
        "colab": {
          "base_uri": "https://localhost:8080/"
        },
        "id": "ZXpL9yYsDzdb",
        "outputId": "dd01923f-837b-4c6c-8976-41dfc6de3085"
      },
      "execution_count": 17,
      "outputs": [
        {
          "output_type": "execute_result",
          "data": {
            "text/plain": [
              "<tf.Tensor: shape=(5, 10), dtype=float32, numpy=\n",
              "array([[4.7616854e-07, 6.2676766e-09, 4.7820122e-06, 4.5317753e-05,\n",
              "        3.6434050e-11, 4.7193970e-07, 1.4137489e-13, 9.9994588e-01,\n",
              "        6.9334966e-08, 3.0771521e-06],\n",
              "       [7.3700697e-08, 1.5193335e-05, 9.9997175e-01, 7.6355009e-06,\n",
              "        6.1987843e-14, 3.7706261e-06, 8.6587093e-08, 4.0043649e-11,\n",
              "        1.4844843e-06, 7.2564344e-14],\n",
              "       [2.3644985e-08, 9.9444324e-01, 4.6003266e-04, 1.0505852e-05,\n",
              "        1.9132623e-05, 2.3370717e-06, 1.8932791e-06, 4.8668669e-03,\n",
              "        1.9581064e-04, 1.0519114e-07],\n",
              "       [9.9948150e-01, 7.4989881e-09, 8.3552812e-05, 2.7498035e-07,\n",
              "        2.3656143e-05, 1.9313375e-04, 1.7334154e-04, 3.2328811e-05,\n",
              "        6.5988672e-08, 1.2127329e-05],\n",
              "       [4.3425157e-06, 4.9900412e-10, 4.0176760e-06, 3.7101270e-08,\n",
              "        9.8964429e-01, 7.9744552e-07, 7.3383071e-06, 1.8787132e-04,\n",
              "        1.2788016e-06, 1.0149949e-02]], dtype=float32)>"
            ]
          },
          "metadata": {},
          "execution_count": 17
        }
      ]
    },
    {
      "cell_type": "markdown",
      "source": [
        "## Step 2: Publish a pipeline that executes your model"
      ],
      "metadata": {
        "id": "ifAT2Y7cbpJz"
      }
    },
    {
      "cell_type": "code",
      "source": [
        "model.save(\"/content\")"
      ],
      "metadata": {
        "colab": {
          "base_uri": "https://localhost:8080/"
        },
        "id": "l7zJXvCsEuqN",
        "outputId": "cb8d5514-1c39-4f1d-c02a-60e5452c76a2"
      },
      "execution_count": 20,
      "outputs": [
        {
          "output_type": "stream",
          "name": "stderr",
          "text": [
            "WARNING:absl:Found untraced functions such as _update_step_xla while saving (showing 1 of 1). These functions will not be directly callable after loading.\n"
          ]
        }
      ]
    },
    {
      "cell_type": "code",
      "source": [
        "!zip -r /content/keras_model.zip /content"
      ],
      "metadata": {
        "id": "EoGaEi03EzfY"
      },
      "execution_count": null,
      "outputs": []
    },
    {
      "cell_type": "markdown",
      "source": [
        "```garden-ai model register keras-example \"/Users/will/Sandbox/seedlings/tf_pipeline/keras_model\" tensorflow```\n",
        "\n",
        "\n",
        "```\n",
        "garden-ai pipeline register \"/Users/will/Sandbox/seedlings/tf_pipeline/pipeline.py\"\n",
        "```\n",
        "\n",
        "```\n",
        " garden-ai garden add-pipeline --garden 7b751dfe-e6c7-4993-8388-d68405582055 --pipeline 10.23677/0vak-kr28\n",
        "```\n",
        "\n",
        "```\n",
        "garden-ai garden publish --garden 7b751dfe-e6c7-4993-8388-d68405582055\n",
        "```"
      ],
      "metadata": {
        "id": "vM5hcYalbv30"
      }
    },
    {
      "cell_type": "markdown",
      "source": [
        "## Step 3: Execute your model remotely"
      ],
      "metadata": {
        "id": "lmirFKidcLgq"
      }
    },
    {
      "cell_type": "code",
      "source": [
        "from garden_ai import GardenClient\n",
        "gc = GardenClient()\n",
        "demo_garden = gc.get_published_garden(\"10.23677/gac2-7m91\")"
      ],
      "metadata": {
        "id": "d7Sh35fBSutc"
      },
      "execution_count": 27,
      "outputs": []
    },
    {
      "cell_type": "code",
      "source": [
        "demo_garden.tf_pipeline(x_test[:5], endpoint=\"86a47061-f3d9-44f0-90dc-56ddc642c000\")"
      ],
      "metadata": {
        "colab": {
          "base_uri": "https://localhost:8080/",
          "height": 35,
          "referenced_widgets": [
            "85647dadf57f40149f622633db809e11",
            "811db472d0f54a1a8d24bae9de40fedf"
          ]
        },
        "id": "NylQ7a40UWKb",
        "outputId": "d5f28acd-14f5-4c4b-b392-7e53ef62f374"
      },
      "execution_count": 28,
      "outputs": [
        {
          "output_type": "display_data",
          "data": {
            "text/plain": [
              "Output()"
            ],
            "application/vnd.jupyter.widget-view+json": {
              "version_major": 2,
              "version_minor": 0,
              "model_id": "85647dadf57f40149f622633db809e11"
            }
          },
          "metadata": {}
        },
        {
          "output_type": "display_data",
          "data": {
            "text/plain": [],
            "text/html": [
              "<pre style=\"white-space:pre;overflow-x:auto;line-height:normal;font-family:Menlo,'DejaVu Sans Mono',consolas,'Courier New',monospace\"></pre>\n"
            ]
          },
          "metadata": {}
        },
        {
          "output_type": "execute_result",
          "data": {
            "text/plain": [
              "<tf.Tensor: shape=(5,), dtype=int64, numpy=array([7, 2, 1, 0, 4])>"
            ]
          },
          "metadata": {},
          "execution_count": 28
        }
      ]
    }
  ]
}