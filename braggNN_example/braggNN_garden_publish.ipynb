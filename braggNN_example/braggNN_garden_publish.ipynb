{
 "cells": [
  {
   "cell_type": "code",
   "execution_count": 1,
   "id": "0527ddfa-f7da-4acb-a1ec-4288d33491d8",
   "metadata": {},
   "outputs": [],
   "source": [
    "import garden_ai\n",
    "from garden_ai import step, GardenClient\n",
    "from typing import Annotated\n",
    "import numpy as np\n",
    "client = GardenClient()\n",
    "\n",
    "# First, we needed to register our pretrained ML model with the garden service.\n",
    "# When we registered the pretrained model (model.pth copied in this directory) via `$ garden-ai model register ...` \n",
    "# We were given this model name, which we can use to reference the model in a pipeline. \n",
    "REGISTERED_MODEL_NAME = \"owenpriceskelly@uchicago.edu/bragg-model-seedling\""
   ]
  },
  {
   "cell_type": "code",
   "execution_count": 2,
   "id": "7778a8f3",
   "metadata": {},
   "outputs": [],
   "source": [
    "# Next, we define a plain python function that uses the named model to run inference \n",
    "# We decorate it with `@step` so that we can use it to build up a pipeline\n",
    "\n",
    "@step\n",
    "def run_inference(\n",
    "    input_data: Annotated[np.ndarray, \"image map with shape=([11,11])\"],\n",
    "    model=garden_ai.Model(REGISTERED_MODEL_NAME),  # loads the registered model by name, with a `.predict()` method\n",
    ") -> Annotated[np.ndarray, \"list of Bragg peak positions with shape=([1,2])\"]:\n",
    "    # scale back peak location by multiply with patch size [sic]\n",
    "    return 11 * model.predict(input_data)\n",
    "\n",
    "# we also define a (slightly contrived) preprocessing step\n",
    "@step\n",
    "def fix_axes_and_dtype(input_data: np.ndarray) -> Annotated[np.ndarray, \"image map with shape=([11,11])\"]:\n",
    "    import numpy as np\n",
    "    # Add two new singleton dimensions to the input data \n",
    "    preprocessed = input_data[np.newaxis, np.newaxis]\n",
    "\n",
    "    # Convert the data type to float32\n",
    "    preprocessed = preprocessed.astype('float32')\n",
    "    return preprocessed"
   ]
  },
  {
   "cell_type": "code",
   "execution_count": 3,
   "id": "6568029d-cd7e-4a10-8a31-ff1dc300df8a",
   "metadata": {},
   "outputs": [],
   "source": [
    "# make a simple Pipeline using the steps we just defined\n",
    "# (metadata copied from analogous DLHub publish code where applicable)\n",
    "braggNN_cpu = client.create_pipeline(\n",
    "    title=\"BraggNN Demo Pipeline\",\n",
    "    pip_dependencies=[\"torch==1.8.0\", \"numpy==1.21.1\"],\n",
    "    python_version=\"3.9.16\",\n",
    "    steps=(fix_axes_and_dtype, run_inference),  # steps run in order, passing output to subsequent steps\n",
    "    authors=[\n",
    "        \"Ravi, Nikil\",\n",
    "        \"Chaturvedi, Pranshu\",\n",
    "        \"Huerta, E.A.\",\n",
    "        \"Liu, Zhengchun\",\n",
    "        \"Scourtas, Aristana\",\n",
    "        \"Schmidt, KJ\",\n",
    "        \"Chard, Ryan\",\n",
    "        \"Blaiszik, Ben\",\n",
    "    ],\n",
    "    contributors=[\"Price Skelly, Owen\"],\n",
    "    version=\"0.0.1\",\n",
    "    year=2023,\n",
    "    tags=[],\n",
    "    short_name=\"braggNN_cpu\",\n",
    "    doi=\"10.23677/9zy0-z857\",\n",
    ")"
   ]
  },
  {
   "cell_type": "code",
   "execution_count": 4,
   "id": "62c2a542-6e2a-487d-9cb7-b789792646f2",
   "metadata": {},
   "outputs": [
    {
     "name": "stdout",
     "output_type": "stream",
     "text": [
      "Registered pipeline '10.23677/9zy0-z857'!\n"
     ]
    }
   ],
   "source": [
    "# now we need to register the pipeline for remote execution\n",
    "# build a container with the pipeline's specific dependencies/python version\n",
    "# then register the pipeline so that it will execute from that container\n",
    "container_id = '5ae7a9ce-cf82-4823-9ee6-09d8d6ecfc9b' # (reuse a known container uuid to skip slow build step)\n",
    "# container_id = client.build_container(braggNN_cpu) # <-- to build a fresh container\n",
    "client.register_pipeline(braggNN_cpu, container_id)\n",
    "print(f\"Registered pipeline '{braggNN_cpu.doi}'!\")"
   ]
  },
  {
   "cell_type": "code",
   "execution_count": 6,
   "id": "feca96ca",
   "metadata": {},
   "outputs": [
    {
     "data": {
      "image/png": "[encoded data removed]",
      "text/plain": [
       "<Figure size 640x480 with 1 Axes>"
      ]
     },
     "metadata": {},
     "output_type": "display_data"
    }
   ],
   "source": [
    "# now that we've registered our pipeline, we can test its remote execution against some sample input \n",
    "# (copied from dlhub publish notebook)\n",
    "import numpy as np\n",
    "from matplotlib import pyplot as plt\n",
    "def make_demo_input():\n",
    "    \"\"\"generate and plot some simple input data for BraggNN model\"\"\"\n",
    "    \n",
    "    # use a simple gaussian for demo\n",
    "    # node that models in this repo are pre-trained with real experiment data\n",
    "    # the simple gaussian data may not simplify anything but makes a challenge to the model\n",
    "    # as the train data and testing data are not IID.\n",
    "    X_test = np.zeros((11, 11))\n",
    "    x_cen, y_cen = 6.0, 5.0\n",
    "\n",
    "    sig_x, sig_y = 0.6, 1.5\n",
    "    for x in range(11):\n",
    "        for y in range(11):\n",
    "            X_test[y][x] = 1000*(np.exp(-(x-x_cen)*(x-x_cen)/2*sig_x -(y-y_cen)*(y-y_cen)/2*sig_y))\n",
    "\n",
    "    # the input needs to be normalize to 0-1, e.g., rescale using min-max norm\n",
    "    X_test = (X_test - X_test.min()) / (X_test.max() - X_test.min())\n",
    "\n",
    "    plt.imshow(X_test, cmap='seismic')\n",
    "    plt.show(); plt.close()\n",
    "    return X_test\n",
    "\n",
    "demo_input = make_demo_input()"
   ]
  },
  {
   "cell_type": "code",
   "execution_count": 8,
   "id": "52d8e3de-26ad-4f8e-a571-cc34f12f02b3",
   "metadata": {},
   "outputs": [
    {
     "data": {
      "text/html": [
       "<pre style=\"white-space:pre;overflow-x:auto;line-height:normal;font-family:Menlo,'DejaVu Sans Mono',consolas,'Courier New',monospace\"></pre>\n"
      ],
      "text/plain": [
       "\u001b[?25l"
      ]
     },
     "metadata": {},
     "output_type": "display_data"
    },
    {
     "data": {
      "application/vnd.jupyter.widget-view+json": {
       "model_id": "",
       "version_major": 2,
       "version_minor": 0
      },
      "text/plain": [
       "Output()"
      ]
     },
     "metadata": {},
     "output_type": "display_data"
    },
    {
     "data": {
      "text/html": [
       "<pre style=\"white-space:pre;overflow-x:auto;line-height:normal;font-family:Menlo,'DejaVu Sans Mono',consolas,'Courier New',monospace\">\n",
       "</pre>\n"
      ],
      "text/plain": [
       "\n",
       "\u001b[?25h\r",
       "\u001b[1A\u001b[2K"
      ]
     },
     "metadata": {},
     "output_type": "display_data"
    },
    {
     "name": "stdout",
     "output_type": "stream",
     "text": [
      "[[5.9369993 5.1481276]]\n"
     ]
    },
    {
     "data": {
      "text/plain": [
       "array([[ True,  True]])"
      ]
     },
     "execution_count": 8,
     "metadata": {},
     "output_type": "execute_result"
    }
   ],
   "source": [
    "# results we want to reproduce from DLHub-hosted copy of the same model:\n",
    "expected_results = np.array([[5.9369993, 5.1481276]], dtype='float32')  \n",
    "\n",
    "# to run remotely, use the client to fetch our newly registered pipeline -- \n",
    "# note that our pipeline is only available to us at this point; \n",
    "# it can't be discovered/used by others until it's part of a published Garden\n",
    "bragg_remote = client.get_registered_pipeline(\"10.23677/9zy0-z857\")\n",
    "\n",
    "results = bragg_remote(\n",
    "    demo_input,\n",
    "    endpoint=\"86a47061-f3d9-44f0-90dc-56ddc642c000\",  # execute on Globus Compute endpoint of choice\n",
    ")\n",
    "print(results)\n",
    "results == expected_results # cool!"
   ]
  },
  {
   "cell_type": "code",
   "execution_count": 10,
   "id": "9a556d6c",
   "metadata": {},
   "outputs": [],
   "source": [
    "# now that we've sanity-checked the pipeline's remote execution, we can publish it as part of a Garden:\n",
    "bragg_garden = client.create_garden(\n",
    "    title=\"BraggNN Demo Garden\", \n",
    "    authors=[\"Owen Price Skelly\"], \n",
    "    description=\"Recreates the BraggNN DLHub publication flow from \\\n",
    "https://github.com/blaiszik/dlhub_publish/blob/main/Bragg_model_code_notebook/inference-notebook.ipynb\",\n",
    "    doi='10.23677/z9m9-m734',\n",
    ")\n",
    "# include the pipeline by just its DOI:\n",
    "bragg_garden.pipeline_ids += ['10.23677/9zy0-z857'] \n"
   ]
  },
  {
   "cell_type": "code",
   "execution_count": 11,
   "id": "19271aec-915d-4eed-91e7-1bcfc791046a",
   "metadata": {},
   "outputs": [],
   "source": [
    "# Finally, publish our new garden, making it (and its pipeline) discoverable by other garden users\n",
    "# (see example discovery/execution flow of this garden and pipeline in braggNN_garden_remote_inference.ipynb)\n",
    "client.publish_garden_metadata(bragg_garden) "
   ]
  }
 ],
 "metadata": {
  "kernelspec": {
   "display_name": "Python 3 (ipykernel)",
   "language": "python",
   "name": "python3"
  },
  "language_info": {
   "codemirror_mode": {
    "name": "ipython",
    "version": 3
   },
   "file_extension": ".py",
   "mimetype": "text/x-python",
   "name": "python",
   "nbconvert_exporter": "python",
   "pygments_lexer": "ipython3",
   "version": "3.9.16"
  }
 },
 "nbformat": 4,
 "nbformat_minor": 5
}
