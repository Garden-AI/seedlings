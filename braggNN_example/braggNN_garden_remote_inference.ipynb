{
 "cells": [
  {
   "cell_type": "code",
   "execution_count": 1,
   "id": "e196b4bd-315b-42c1-91db-ee562badd8d5",
   "metadata": {},
   "outputs": [
    {
     "name": "stdout",
     "output_type": "stream",
     "text": [
      "\u001b[1m{\u001b[0m\n",
      "  \u001b[1;34m\"offset\"\u001b[0m: \u001b[1;36m0\u001b[0m,\n",
      "  \u001b[1;34m\"gmeta\"\u001b[0m: \u001b[1m[\u001b[0m\n",
      "    \u001b[1m{\u001b[0m\n",
      "      \u001b[1;34m\"subject\"\u001b[0m: \u001b[32m\"10.23677/z9m9-m734\"\u001b[0m,\n",
      "      \u001b[1;34m\"@version\"\u001b[0m: \u001b[32m\"2019-08-27\"\u001b[0m,\n",
      "      \u001b[1;34m\"@datatype\"\u001b[0m: \u001b[32m\"GMetaResult\"\u001b[0m,\n",
      "      \u001b[1;34m\"entries\"\u001b[0m: \u001b[1m[\u001b[0m\n",
      "        \u001b[1m{\u001b[0m\n",
      "          \u001b[1;34m\"content\"\u001b[0m: \u001b[1m{\u001b[0m\n",
      "            \u001b[1;34m\"pipeline_aliases\"\u001b[0m: \u001b[1m{\u001b[0m\u001b[1m}\u001b[0m,\n",
      "            \u001b[1;34m\"year\"\u001b[0m: \u001b[32m\"2023\"\u001b[0m,\n",
      "            \u001b[1;34m\"description\"\u001b[0m: \u001b[32m\"Recreates the BraggNN DLHub publication flow from https://github.com/blaiszik/dlhub_publish/blob/main/Bragg_model_code_notebook/inference-notebook.ipynb\"\u001b[0m,\n",
      "            \u001b[1;34m\"language\"\u001b[0m: \u001b[32m\"en\"\u001b[0m,\n",
      "            \u001b[1;34m\"title\"\u001b[0m: \u001b[32m\"BraggNN Demo Garden\"\u001b[0m,\n",
      "            \u001b[1;34m\"version\"\u001b[0m: \u001b[32m\"0.0.1\"\u001b[0m,\n",
      "            \u001b[1;34m\"tags\"\u001b[0m: \u001b[1m[\u001b[0m\u001b[1m]\u001b[0m,\n",
      "            \u001b[1;34m\"pipelines\"\u001b[0m: \u001b[1m[\u001b[0m\n",
      "              \u001b[1m{\u001b[0m\n",
      "                \u001b[1;34m\"models\"\u001b[0m: \u001b[1m[\u001b[0m\n",
      "                  \u001b[1m{\u001b[0m\n",
      "                    \u001b[1;34m\"flavor\"\u001b[0m: \u001b[32m\"pytorch\"\u001b[0m,\n",
      "                    \u001b[1;34m\"user_email\"\u001b[0m: \u001b[32m\"owenpriceskelly@uchicago.edu\"\u001b[0m,\n",
      "                    \u001b[1;34m\"full_name\"\u001b[0m: \u001b[32m\"owenpriceskelly@uchicago.edu/bragg-model-seedling\"\u001b[0m,\n",
      "                    \u001b[1;34m\"model_name\"\u001b[0m: \u001b[32m\"bragg-model-seedling\"\u001b[0m,\n",
      "                    \u001b[1;34m\"mlflow_name\"\u001b[0m: \u001b[32m\"owenpriceskelly@uchicago.edu-bragg-model-seedling\"\u001b[0m,\n",
      "                    \u001b[1;34m\"connections\"\u001b[0m: \u001b[1m[\u001b[0m\u001b[1m]\u001b[0m\n",
      "                  \u001b[1m}\u001b[0m\n",
      "                \u001b[1m]\u001b[0m,\n",
      "                \u001b[1;34m\"year\"\u001b[0m: \u001b[32m\"2023\"\u001b[0m,\n",
      "                \u001b[1;34m\"description\"\u001b[0m: \u001b[3;35mnull\u001b[0m,\n",
      "                \u001b[1;34m\"func_uuid\"\u001b[0m: \u001b[32m\"c2bd7482-c15c-4a62-89e1-8f8baca08c8b\"\u001b[0m,\n",
      "                \u001b[1;34m\"model_full_names\"\u001b[0m: \u001b[1m[\u001b[0m\n",
      "                  \u001b[32m\"owenpriceskelly@uchicago.edu/bragg-model-seedling\"\u001b[0m\n",
      "                \u001b[1m]\u001b[0m,\n",
      "                \u001b[1;34m\"title\"\u001b[0m: \u001b[32m\"BraggNN Demo Pipeline\"\u001b[0m,\n",
      "                \u001b[1;34m\"steps\"\u001b[0m: \u001b[1m[\u001b[0m\n",
      "                  \u001b[1m{\u001b[0m\n",
      "                    \u001b[1;34m\"input_info\"\u001b[0m: \u001b[32m\"{'input_data': <class 'numpy.ndarray'>}\"\u001b[0m,\n",
      "                    \u001b[1;34m\"func\"\u001b[0m: \u001b[32m\"fix_axes_and_dtype: (input_data: numpy.ndarray) -> typing.Annotated[numpy.ndarray, 'image map with shape=([11,11])']\"\u001b[0m,\n",
      "                    \u001b[1;34m\"description\"\u001b[0m: \u001b[3;35mnull\u001b[0m,\n",
      "                    \u001b[1;34m\"model_full_names\"\u001b[0m: \u001b[1m[\u001b[0m\u001b[1m]\u001b[0m,\n",
      "                    \u001b[1;34m\"contributors\"\u001b[0m: \u001b[1m[\u001b[0m\u001b[1m]\u001b[0m,\n",
      "                    \u001b[1;34m\"output_info\"\u001b[0m: \u001b[32m\"return: typing.Annotated[numpy.ndarray, 'image map with shape=([11,11])']\"\u001b[0m,\n",
      "                    \u001b[1;34m\"source\"\u001b[0m: \u001b[32m\"@step\\ndef fix_axes_and_dtype(input_data: np.ndarray) -> Annotated[np.ndarray, \\\"image map with shape=([11,11])\\\"]:\\n    import numpy as np\\n    # Add two new singleton dimensions to the input data \\n    preprocessed = input_data[np.newaxis, np.newaxis]\\n\\n    # Convert the data type to float32\\n    preprocessed = preprocessed.astype('float32')\\n    return preprocessed\\n\"\u001b[0m,\n",
      "                    \u001b[1;34m\"title\"\u001b[0m: \u001b[32m\"fix_axes_and_dtype\"\u001b[0m,\n",
      "                    \u001b[1;34m\"authors\"\u001b[0m: \u001b[1m[\u001b[0m\u001b[1m]\u001b[0m\n",
      "                  \u001b[1m}\u001b[0m,\n",
      "                  \u001b[1m{\u001b[0m\n",
      "                    \u001b[1;34m\"input_info\"\u001b[0m: \u001b[32m\"{'input_data': typing.Annotated[numpy.ndarray, 'image map with shape=([11,11])']}\"\u001b[0m,\n",
      "                    \u001b[1;34m\"func\"\u001b[0m: \u001b[32m\"run_inference: (input_data: typing.Annotated[numpy.ndarray, 'image map with shape=([11,11])'], model=<__main__._Model object at 0x11f5b3dc0>) -> typing.Annotated[numpy.ndarray, 'list of Bragg peak positions with shape=([1,2])']\"\u001b[0m,\n",
      "                    \u001b[1;34m\"description\"\u001b[0m: \u001b[3;35mnull\u001b[0m,\n",
      "                    \u001b[1;34m\"model_full_names\"\u001b[0m: \u001b[1m[\u001b[0m\n",
      "                      \u001b[32m\"owenpriceskelly@uchicago.edu/bragg-model-seedling\"\u001b[0m\n",
      "                    \u001b[1m]\u001b[0m,\n",
      "                    \u001b[1;34m\"contributors\"\u001b[0m: \u001b[1m[\u001b[0m\u001b[1m]\u001b[0m,\n",
      "                    \u001b[1;34m\"output_info\"\u001b[0m: \u001b[32m\"return: typing.Annotated[numpy.ndarray, 'list of Bragg peak positions with shape=([1,2])']\"\u001b[0m,\n",
      "                    \u001b[1;34m\"source\"\u001b[0m: \u001b[32m\"@step\\ndef run_inference(\\n    input_data: Annotated[np.ndarray, \\\"image map with shape=([11,11])\\\"],\\n    model=garden_ai.Model(REGISTERED_MODEL_NAME),  # loads the registered model by name, with a `.predict()` method\\n) -> Annotated[np.ndarray, \\\"list of Bragg peak positions with shape=([1,2])\\\"]:\\n    # scale back peak location by multiply with patch size [sic]\\n    return 11 * model.predict(input_data)\\n\"\u001b[0m,\n",
      "                    \u001b[1;34m\"title\"\u001b[0m: \u001b[32m\"run_inference\"\u001b[0m,\n",
      "                    \u001b[1;34m\"authors\"\u001b[0m: \u001b[1m[\u001b[0m\u001b[1m]\u001b[0m\n",
      "                  \u001b[1m}\u001b[0m\n",
      "                \u001b[1m]\u001b[0m,\n",
      "                \u001b[1;34m\"version\"\u001b[0m: \u001b[32m\"0.0.1\"\u001b[0m,\n",
      "                \u001b[1;34m\"conda_dependencies\"\u001b[0m: \u001b[1m[\u001b[0m\u001b[1m]\u001b[0m,\n",
      "                \u001b[1;34m\"tags\"\u001b[0m: \u001b[1m[\u001b[0m\u001b[1m]\u001b[0m,\n",
      "                \u001b[1;34m\"pip_dependencies\"\u001b[0m: \u001b[1m[\u001b[0m\n",
      "                  \u001b[32m\"numpy==1.21.1\"\u001b[0m,\n",
      "                  \u001b[32m\"mlflow-skinny==2.5.0\"\u001b[0m,\n",
      "                  \u001b[32m\"torch==1.8.0\"\u001b[0m,\n",
      "                  \u001b[32m\"pandas<3\"\u001b[0m\n",
      "                \u001b[1m]\u001b[0m,\n",
      "                \u001b[1;34m\"python_version\"\u001b[0m: \u001b[32m\"3.9.16\"\u001b[0m,\n",
      "                \u001b[1;34m\"short_name\"\u001b[0m: \u001b[32m\"braggNN_cpu\"\u001b[0m,\n",
      "                \u001b[1;34m\"contributors\"\u001b[0m: \u001b[1m[\u001b[0m\n",
      "                  \u001b[32m\"Price Skelly, Owen\"\u001b[0m\n",
      "                \u001b[1m]\u001b[0m,\n",
      "                \u001b[1;34m\"doi\"\u001b[0m: \u001b[32m\"10.23677/9zy0-z857\"\u001b[0m,\n",
      "                \u001b[1;34m\"authors\"\u001b[0m: \u001b[1m[\u001b[0m\n",
      "                  \u001b[32m\"Ravi, Nikil\"\u001b[0m,\n",
      "                  \u001b[32m\"Chaturvedi, Pranshu\"\u001b[0m,\n",
      "                  \u001b[32m\"Huerta, E.A.\"\u001b[0m,\n",
      "                  \u001b[32m\"Liu, Zhengchun\"\u001b[0m,\n",
      "                  \u001b[32m\"Scourtas, Aristana\"\u001b[0m,\n",
      "                  \u001b[32m\"Schmidt, KJ\"\u001b[0m,\n",
      "                  \u001b[32m\"Chard, Ryan\"\u001b[0m,\n",
      "                  \u001b[32m\"Blaiszik, Ben\"\u001b[0m\n",
      "                \u001b[1m]\u001b[0m\n",
      "              \u001b[1m}\u001b[0m\n",
      "            \u001b[1m]\u001b[0m,\n",
      "            \u001b[1;34m\"publisher\"\u001b[0m: \u001b[32m\"Garden-AI\"\u001b[0m,\n",
      "            \u001b[1;34m\"contributors\"\u001b[0m: \u001b[1m[\u001b[0m\n",
      "              \u001b[32m\"Huerta, E.A.\"\u001b[0m,\n",
      "              \u001b[32m\"Ravi, Nikil\"\u001b[0m,\n",
      "              \u001b[32m\"Chard, Ryan\"\u001b[0m,\n",
      "              \u001b[32m\"Liu, Zhengchun\"\u001b[0m,\n",
      "              \u001b[32m\"Schmidt, KJ\"\u001b[0m,\n",
      "              \u001b[32m\"Price Skelly, Owen\"\u001b[0m,\n",
      "              \u001b[32m\"Chaturvedi, Pranshu\"\u001b[0m,\n",
      "              \u001b[32m\"Blaiszik, Ben\"\u001b[0m,\n",
      "              \u001b[32m\"Scourtas, Aristana\"\u001b[0m\n",
      "            \u001b[1m]\u001b[0m,\n",
      "            \u001b[1;34m\"pipeline_ids\"\u001b[0m: \u001b[1m[\u001b[0m\n",
      "              \u001b[32m\"10.23677/9zy0-z857\"\u001b[0m\n",
      "            \u001b[1m]\u001b[0m,\n",
      "            \u001b[1;34m\"authors\"\u001b[0m: \u001b[1m[\u001b[0m\n",
      "              \u001b[32m\"Owen Price Skelly\"\u001b[0m\n",
      "            \u001b[1m]\u001b[0m,\n",
      "            \u001b[1;34m\"doi\"\u001b[0m: \u001b[32m\"10.23677/z9m9-m734\"\u001b[0m\n",
      "          \u001b[1m}\u001b[0m,\n",
      "          \u001b[1;34m\"entry_id\"\u001b[0m: \u001b[3;35mnull\u001b[0m,\n",
      "          \u001b[1;34m\"matched_principal_sets\"\u001b[0m: \u001b[1m[\u001b[0m\u001b[1m]\u001b[0m\n",
      "        \u001b[1m}\u001b[0m\n",
      "      \u001b[1m]\u001b[0m\n",
      "    \u001b[1m}\u001b[0m\n",
      "  \u001b[1m]\u001b[0m,\n",
      "  \u001b[1;34m\"@datatype\"\u001b[0m: \u001b[32m\"GSearchResult\"\u001b[0m,\n",
      "  \u001b[1;34m\"@version\"\u001b[0m: \u001b[32m\"2017-09-01\"\u001b[0m,\n",
      "  \u001b[1;34m\"total\"\u001b[0m: \u001b[1;36m1\u001b[0m,\n",
      "  \u001b[1;34m\"count\"\u001b[0m: \u001b[1;36m1\u001b[0m,\n",
      "  \u001b[1;34m\"has_next_page\"\u001b[0m: \u001b[3;91mfalse\u001b[0m\n",
      "\u001b[1m}\u001b[0m\n"
     ]
    }
   ],
   "source": [
    "# search for a published garden's metadata using the CLI, making a note of the doi (should be \"10.23677/z9m9-m734\")\n",
    "!garden-ai garden search --title=\"BraggNN Demo Garden\""
   ]
  },
  {
   "cell_type": "code",
   "execution_count": 2,
   "id": "7b3fbc4d-c184-47af-a137-e852c13b0853",
   "metadata": {},
   "outputs": [],
   "source": [
    "# download the garden (and its pipelines) from the doi:\n",
    "from garden_ai import GardenClient\n",
    "client = GardenClient()\n",
    "bragg_garden = client.get_published_garden(\"10.23677/z9m9-m734\")"
   ]
  },
  {
   "cell_type": "code",
   "execution_count": 3,
   "id": "8d30bcfd-fc35-453c-a75b-134e8dfdaeba",
   "metadata": {},
   "outputs": [],
   "source": [
    "# prepare some data we want to run inference on (copied from publish notebook for consistency)\n",
    "import numpy as np\n",
    "def make_demo_input():\n",
    "    X_test = np.zeros((11, 11))\n",
    "    x_cen, y_cen = 6.0, 5.0\n",
    "    sig_x, sig_y = 0.6, 1.5\n",
    "    for x in range(11):\n",
    "        for y in range(11):\n",
    "            X_test[y][x] = 1000*(np.exp(-(x-x_cen)*(x-x_cen)/2*sig_x -(y-y_cen)*(y-y_cen)/2*sig_y))\n",
    "    X_test = (X_test - X_test.min()) / (X_test.max() - X_test.min())\n",
    "    return X_test\n",
    "\n",
    "expected_results = np.array([[5.9369993, 5.1481276]], dtype='float32') \n",
    "demo_input = make_demo_input()"
   ]
  },
  {
   "cell_type": "code",
   "execution_count": 4,
   "id": "bae8204a-e871-49f2-98f8-fd1bf9099fd2",
   "metadata": {},
   "outputs": [
    {
     "data": {
      "text/html": [
       "<pre style=\"white-space:pre;overflow-x:auto;line-height:normal;font-family:Menlo,'DejaVu Sans Mono',consolas,'Courier New',monospace\"></pre>\n"
      ],
      "text/plain": [
       "\u001b[?25l"
      ]
     },
     "metadata": {},
     "output_type": "display_data"
    },
    {
     "data": {
      "application/vnd.jupyter.widget-view+json": {
       "model_id": "",
       "version_major": 2,
       "version_minor": 0
      },
      "text/plain": [
       "Output()"
      ]
     },
     "metadata": {},
     "output_type": "display_data"
    },
    {
     "data": {
      "text/html": [
       "<pre style=\"white-space:pre;overflow-x:auto;line-height:normal;font-family:Menlo,'DejaVu Sans Mono',consolas,'Courier New',monospace\">\n",
       "</pre>\n"
      ],
      "text/plain": [
       "\n",
       "\u001b[?25h\r",
       "\u001b[1A\u001b[2K"
      ]
     },
     "metadata": {},
     "output_type": "display_data"
    },
    {
     "name": "stdout",
     "output_type": "stream",
     "text": [
      "[[5.9369993 5.1481276]]\n"
     ]
    },
    {
     "data": {
      "text/plain": [
       "array([[ True,  True]])"
      ]
     },
     "execution_count": 4,
     "metadata": {},
     "output_type": "execute_result"
    }
   ],
   "source": [
    "# run inference against the sample data on our remote Globus Compute endpoint:\n",
    "results = bragg_garden.braggNN_cpu(\n",
    "    demo_input,\n",
    "    endpoint=\"86a47061-f3d9-44f0-90dc-56ddc642c000\",\n",
    ")\n",
    "print(results)\n",
    "results == expected_results  # cool!"
   ]
  },
  {
   "cell_type": "code",
   "execution_count": null,
   "id": "a162bd98-c0e7-437d-80e9-09ea16b7e7be",
   "metadata": {},
   "outputs": [],
   "source": []
  }
 ],
 "metadata": {
  "kernelspec": {
   "display_name": "Python 3 (ipykernel)",
   "language": "python",
   "name": "python3"
  },
  "language_info": {
   "codemirror_mode": {
    "name": "ipython",
    "version": 3
   },
   "file_extension": ".py",
   "mimetype": "text/x-python",
   "name": "python",
   "nbconvert_exporter": "python",
   "pygments_lexer": "ipython3",
   "version": "3.9.16"
  }
 },
 "nbformat": 4,
 "nbformat_minor": 5
}
