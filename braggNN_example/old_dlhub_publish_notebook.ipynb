{
 "cells": [
  {
   "cell_type": "code",
   "execution_count": 4,
   "id": "184e7184",
   "metadata": {},
   "outputs": [
    {
     "name": "stdout",
     "output_type": "stream",
     "text": [
      "Requirement already satisfied: numpy~=1.21.1 in /Users/aristanascourtas/opt/anaconda3/lib/python3.8/site-packages (1.21.2)\r\n"
     ]
    }
   ],
   "source": [
    "!pip install numpy~=1.21.1"
   ]
  },
  {
   "cell_type": "code",
   "execution_count": 5,
   "id": "03ee91e6",
   "metadata": {},
   "outputs": [
    {
     "name": "stdout",
     "output_type": "stream",
     "text": [
      "Requirement already satisfied: torch~=1.8.0 in /Users/aristanascourtas/opt/anaconda3/lib/python3.8/site-packages (1.8.1)\r\n",
      "Requirement already satisfied: numpy in /Users/aristanascourtas/opt/anaconda3/lib/python3.8/site-packages (from torch~=1.8.0) (1.21.2)\r\n",
      "Requirement already satisfied: typing-extensions in /Users/aristanascourtas/opt/anaconda3/lib/python3.8/site-packages (from torch~=1.8.0) (3.7.4.3)\r\n"
     ]
    }
   ],
   "source": [
    "!pip install torch~=1.8.0"
   ]
  },
  {
   "cell_type": "code",
   "execution_count": 1,
   "id": "4202c983",
   "metadata": {},
   "outputs": [
    {
     "name": "stdout",
     "output_type": "stream",
     "text": [
      "Package                            Version\n",
      "---------------------------------- -------------------\n",
      "absl-py                            1.0.0\n",
      "alabaster                          0.7.12\n",
      "anaconda-client                    1.9.0\n",
      "anaconda-navigator                 1.10.0\n",
      "anaconda-project                   0.10.2\n",
      "anyio                              2.2.0\n",
      "appdirs                            1.4.4\n",
      "applaunchservices                  0.2.1\n",
      "appnope                            0.1.2\n",
      "appscript                          1.1.2\n",
      "argh                               0.26.2\n",
      "argon2-cffi                        20.1.0\n",
      "arrow                              0.13.1\n",
      "asn1crypto                         1.4.0\n",
      "astroid                            2.6.6\n",
      "astropy                            5.0\n",
      "astunparse                         1.6.3\n",
      "async-generator                    1.10\n",
      "atomicwrites                       1.4.0\n",
      "attrs                              21.4.0\n",
      "autopep8                           1.6.0\n",
      "Babel                              2.9.1\n",
      "backcall                           0.2.0\n",
      "backports.functools-lru-cache      1.6.4\n",
      "backports.shutil-get-terminal-size 1.0.0\n",
      "backports.tempfile                 1.0\n",
      "backports.weakref                  1.0.post1\n",
      "bcrypt                             3.2.0\n",
      "beautifulsoup4                     4.10.0\n",
      "binaryornot                        0.4.4\n",
      "bitarray                           2.3.5\n",
      "bkcharts                           0.2\n",
      "black                              19.10b0\n",
      "bleach                             4.1.0\n",
      "bokeh                              2.4.2\n",
      "boto                               2.49.0\n",
      "Bottleneck                         1.3.2\n",
      "brotlipy                           0.7.0\n",
      "cachetools                         4.2.4\n",
      "certifi                            2021.10.8\n",
      "cffi                               1.15.0\n",
      "chardet                            4.0.0\n",
      "charset-normalizer                 2.0.4\n",
      "click                              8.0.3\n",
      "cloudpickle                        2.0.0\n",
      "clyent                             1.2.2\n",
      "colorama                           0.4.4\n",
      "conda                              4.11.0\n",
      "conda-build                        3.20.5\n",
      "conda-content-trust                0+unknown\n",
      "conda-pack                         0.6.0\n",
      "conda-package-handling             1.7.3\n",
      "conda-token                        0.3.0\n",
      "conda-verify                       3.4.2\n",
      "configobj                          5.0.6\n",
      "contextlib2                        0.6.0.post1\n",
      "cookiecutter                       1.7.2\n",
      "cryptography                       36.0.0\n",
      "cycler                             0.11.0\n",
      "Cython                             0.29.25\n",
      "cytoolz                            0.11.0\n",
      "daal4py                            2021.4.0\n",
      "dask                               2021.10.0\n",
      "debugpy                            1.5.1\n",
      "decorator                          5.1.0\n",
      "defusedxml                         0.7.1\n",
      "diff-match-patch                   20200713\n",
      "dill                               0.3.3\n",
      "distributed                        2021.10.0\n",
      "dlhub-client                       0.0.1\n",
      "dlhub-sdk                          0.9.8\n",
      "docutils                           0.17.1\n",
      "entrypoints                        0.3\n",
      "et-xmlfile                         1.1.0\n",
      "fair-research-login                0.2.0\n",
      "fastcache                          1.1.0\n",
      "filelock                           3.4.2\n",
      "flake8                             3.9.2\n",
      "Flask                              1.1.2\n",
      "flatbuffers                        2.0\n",
      "fonttools                          4.25.0\n",
      "foundry-ml                         0.1.0\n",
      "fsspec                             2022.1.0\n",
      "funcx                              0.0.5\n",
      "funcx-endpoint                     0.3.4\n",
      "future                             0.18.2\n",
      "gast                               0.4.0\n",
      "gevent                             21.8.0\n",
      "glob2                              0.7\n",
      "globus-nexus-client                0.3.0\n",
      "globus-sdk                         2.0.1\n",
      "gmpy2                              2.0.8\n",
      "google-auth                        2.3.3\n",
      "google-auth-oauthlib               0.4.6\n",
      "google-pasta                       0.2.0\n",
      "greenlet                           1.1.1\n",
      "grpcio                             1.43.0\n",
      "h5py                               3.2.1\n",
      "HeapDict                           1.0.1\n",
      "html5lib                           1.1\n",
      "idna                               3.3\n",
      "imagecodecs                        2021.8.26\n",
      "imageio                            2.9.0\n",
      "imagesize                          1.3.0\n",
      "importlib-metadata                 4.8.2\n",
      "inflection                         0.5.1\n",
      "iniconfig                          1.1.1\n",
      "intervaltree                       3.1.0\n",
      "ipykernel                          6.4.1\n",
      "ipyparallel                        6.3.0\n",
      "ipython                            7.29.0\n",
      "ipython-genutils                   0.2.0\n",
      "ipywidgets                         7.6.5\n",
      "isort                              5.9.3\n",
      "itsdangerous                       2.0.1\n",
      "jdcal                              1.4.1\n",
      "jedi                               0.18.1\n",
      "Jinja2                             2.11.3\n",
      "jinja2-time                        0.2.0\n",
      "joblib                             1.1.0\n",
      "json2table                         1.1.5\n",
      "json5                              0.9.6\n",
      "jsonlines                          2.0.0\n",
      "jsonschema                         3.2.0\n",
      "jupyter                            1.0.0\n",
      "jupyter-client                     6.1.12\n",
      "jupyter-console                    6.4.0\n",
      "jupyter-core                       4.9.1\n",
      "jupyter-server                     1.4.1\n",
      "jupyterlab                         3.2.1\n",
      "jupyterlab-pygments                0.1.2\n",
      "jupyterlab-server                  2.10.2\n",
      "jupyterlab-widgets                 1.0.0\n",
      "keras                              2.7.0\n",
      "Keras-Preprocessing                1.1.2\n",
      "keras-unet                         0.1.2\n",
      "keyring                            23.4.0\n",
      "kiwisolver                         1.3.1\n",
      "lazy-object-proxy                  1.6.0\n",
      "libarchive-c                       2.9\n",
      "libclang                           12.0.0\n",
      "llvmlite                           0.34.0\n",
      "locket                             0.2.1\n",
      "lockfile                           0.12.2\n",
      "lxml                               4.7.1\n",
      "Markdown                           3.3.6\n",
      "MarkupSafe                         1.1.1\n",
      "matplotlib                         3.5.0\n",
      "matplotlib-inline                  0.1.2\n",
      "mccabe                             0.6.1\n",
      "mdf-connect-client                 0.3.8\n",
      "mdf-forge                          0.7.6\n",
      "mdf-toolbox                        0.5.7\n",
      "megnet                             1.2.8\n",
      "mistune                            0.8.4\n",
      "mkl-fft                            1.3.1\n",
      "mkl-random                         1.2.2\n",
      "mkl-service                        2.4.0\n",
      "mock                               4.0.3\n",
      "monty                              2021.5.9\n",
      "more-itertools                     8.12.0\n",
      "mpmath                             1.2.1\n",
      "msgpack                            1.0.2\n",
      "multipledispatch                   0.6.0\n",
      "munkres                            1.1.4\n",
      "mypy-extensions                    0.4.3\n",
      "nameparser                         1.0.6\n",
      "navigator-updater                  0.2.1\n",
      "nbclassic                          0.2.6\n",
      "nbclient                           0.5.3\n",
      "nbconvert                          6.3.0\n",
      "nbformat                           5.1.3\n",
      "nbsphinx                           0.8.4\n",
      "nest-asyncio                       1.5.1\n",
      "networkx                           2.6.3\n",
      "nltk                               3.6.5\n",
      "nose                               1.3.7\n",
      "notebook                           6.4.6\n",
      "numba                              0.51.2\n",
      "numexpr                            2.8.1\n",
      "numpy                              1.21.2\n",
      "numpydoc                           1.1.0\n",
      "oauthlib                           3.1.1\n",
      "olefile                            0.46\n",
      "opencv-python                      4.5.5.62\n",
      "openpyxl                           3.0.9\n",
      "opt-einsum                         3.3.0\n",
      "packaging                          21.3\n",
      "palettable                         3.3.0\n",
      "pandas                             1.2.2\n",
      "pandocfilters                      1.4.3\n",
      "paramiko                           2.7.2\n",
      "parsl                              0.9.0\n",
      "parso                              0.8.3\n",
      "partd                              1.2.0\n",
      "path                               16.2.0\n",
      "pathlib2                           2.3.6\n",
      "pathspec                           0.7.0\n",
      "patsy                              0.5.2\n",
      "pep8                               1.7.1\n",
      "pexpect                            4.8.0\n",
      "pickleshare                        0.7.5\n",
      "Pillow                             8.4.0\n",
      "pip                                21.2.4\n",
      "pkginfo                            1.7.1\n",
      "plotly                             4.14.3\n",
      "pluggy                             1.0.0\n",
      "ply                                3.11\n",
      "poyo                               0.5.0\n",
      "prometheus-client                  0.12.0\n",
      "prompt-toolkit                     3.0.20\n",
      "protobuf                           3.19.3\n",
      "psutil                             5.8.0\n",
      "ptyprocess                         0.7.0\n",
      "py                                 1.10.0\n",
      "pyasn1                             0.4.8\n",
      "pyasn1-modules                     0.2.8\n",
      "pycodestyle                        2.7.0\n",
      "pycosat                            0.6.3\n",
      "pycparser                          2.21\n",
      "pycurl                             7.44.1\n",
      "pydantic                           1.8.1\n",
      "pydocstyle                         6.1.1\n",
      "pyerfa                             2.0.0\n",
      "pyflakes                           2.3.1\n",
      "Pygments                           2.10.0\n",
      "PyJWT                              1.7.1\n",
      "pylint                             2.9.6\n",
      "pyls-spyder                        0.4.0\n",
      "pymatgen                           2022.0.8\n",
      "PyNaCl                             1.4.0\n",
      "pyodbc                             4.0.0-unsupported\n",
      "pyOpenSSL                          21.0.0\n",
      "pyparsing                          3.0.4\n",
      "pyrsistent                         0.18.0\n",
      "PySocks                            1.7.1\n",
      "pytest                             6.2.5\n",
      "python-daemon                      2.3.0\n",
      "python-dateutil                    2.8.2\n",
      "python-lsp-black                   1.0.0\n",
      "python-lsp-jsonrpc                 1.0.0\n",
      "python-lsp-server                  1.2.4\n",
      "python-slugify                     5.0.2\n",
      "pytz                               2021.3\n",
      "PyWavelets                         1.1.1\n",
      "PyYAML                             6.0\n",
      "pyzmq                              22.3.0\n",
      "QDarkStyle                         3.0.2\n",
      "qstylizer                          0.1.10\n",
      "QtAwesome                          1.0.3\n",
      "qtconsole                          5.1.1\n",
      "QtPy                               1.10.0\n",
      "readme-renderer                    29.0\n",
      "regex                              2021.11.2\n",
      "requests                           2.27.1\n",
      "requests-oauthlib                  1.3.0\n",
      "requests-toolbelt                  0.9.1\n",
      "retry                              0.9.2\n",
      "retrying                           1.3.3\n",
      "rfc3986                            1.5.0\n",
      "rope                               0.21.1\n",
      "rsa                                4.8\n",
      "Rtree                              0.9.7\n",
      "ruamel-yaml-conda                  0.15.100\n",
      "scikit-image                       0.18.3\n",
      "scikit-learn                       1.0.2\n",
      "scikit-learn-intelex               2021.20211201.94539\n",
      "scipy                              1.7.3\n",
      "seaborn                            0.11.2\n",
      "Send2Trash                         1.8.0\n",
      "setuptools                         58.0.4\n",
      "simplegeneric                      0.8.1\n",
      "singledispatch                     3.7.0\n",
      "six                                1.16.0\n",
      "sniffio                            1.2.0\n",
      "snowballstemmer                    2.2.0\n",
      "sortedcollections                  2.1.0\n",
      "sortedcontainers                   2.4.0\n",
      "soupsieve                          2.3.1\n",
      "spglib                             1.16.1\n",
      "Sphinx                             4.2.0\n",
      "sphinx-rtd-theme                   0.5.2\n",
      "sphinxcontrib-applehelp            1.0.2\n",
      "sphinxcontrib-devhelp              1.0.2\n",
      "sphinxcontrib-htmlhelp             2.0.0\n",
      "sphinxcontrib-jsmath               1.0.1\n",
      "sphinxcontrib-qthelp               1.0.3\n",
      "sphinxcontrib-serializinghtml      1.1.5\n",
      "sphinxcontrib-websupport           1.2.4\n",
      "spyder                             5.1.5\n",
      "spyder-kernels                     2.1.3\n",
      "SQLAlchemy                         1.4.27\n",
      "statsmodels                        0.13.0\n",
      "sympy                              1.9\n",
      "tables                             3.6.1\n",
      "tabulate                           0.8.9\n",
      "TBB                                0.2\n",
      "tblib                              1.7.0\n",
      "tensorboard                        2.7.0\n",
      "tensorboard-data-server            0.6.1\n",
      "tensorboard-plugin-wit             1.8.1\n",
      "tensorflow                         2.7.0\n",
      "tensorflow-estimator               2.7.0\n",
      "tensorflow-io-gcs-filesystem       0.23.1\n",
      "termcolor                          1.1.0\n",
      "terminado                          0.9.4\n",
      "testpath                           0.5.0\n",
      "text-unidecode                     1.3\n",
      "textdistance                       4.2.1\n",
      "texttable                          1.6.3\n",
      "threadpoolctl                      2.2.0\n",
      "three-merge                        0.1.1\n",
      "tifffile                           2021.7.2\n",
      "tinycss                            0.4\n",
      "toml                               0.10.2\n",
      "toolz                              0.11.2\n",
      "torch                              1.8.1\n",
      "torchvision                        0.10.1\n",
      "tornado                            6.1\n",
      "tqdm                               4.62.3\n",
      "traitlets                          5.1.1\n",
      "twine                              3.4.1\n",
      "typed-ast                          1.4.3\n",
      "typeguard                          2.12.0\n",
      "typer                              0.3.2\n",
      "typing-extensions                  3.10.0.2\n",
      "ujson                              4.2.0\n",
      "uncertainties                      3.1.5\n",
      "unicodecsv                         0.14.1\n",
      "Unidecode                          1.2.0\n",
      "urllib3                            1.26.7\n",
      "watchdog                           2.1.6\n",
      "wcwidth                            0.2.5\n",
      "webencodings                       0.5.1\n",
      "websockets                         9.1\n",
      "Werkzeug                           2.0.2\n",
      "wheel                              0.37.1\n",
      "whichcraft                         0.6.1\n",
      "widgetsnbextension                 3.5.1\n",
      "wrapt                              1.12.1\n",
      "wurlitzer                          3.0.2\n",
      "xlrd                               2.0.1\n",
      "XlsxWriter                         3.0.2\n",
      "xlwings                            0.24.9\n",
      "xlwt                               1.3.0\n",
      "xmltodict                          0.12.0\n",
      "yapf                               0.31.0\n",
      "zict                               2.0.0\n",
      "zipp                               3.7.0\n",
      "zope.event                         4.5.0\n",
      "zope.interface                     5.4.0\n"
     ]
    }
   ],
   "source": [
    "!pip list"
   ]
  },
  {
   "cell_type": "code",
   "execution_count": 9,
   "id": "2883989d",
   "metadata": {},
   "outputs": [],
   "source": [
    "import numpy as np\n",
    "from matplotlib import pyplot as plt\n",
    "import torch"
   ]
  },
  {
   "cell_type": "code",
   "execution_count": 10,
   "id": "1a3da3aa",
   "metadata": {},
   "outputs": [],
   "source": [
    "from model import BraggNN"
   ]
  },
  {
   "cell_type": "code",
   "execution_count": 11,
   "id": "084f3086",
   "metadata": {},
   "outputs": [
    {
     "data": {
      "text/plain": [
       "<All keys matched successfully>"
      ]
     },
     "execution_count": 11,
     "metadata": {},
     "output_type": "execute_result"
    }
   ],
   "source": [
    "# load a pre-trained model\n",
    "model  = BraggNN(imgsz=11, fcsz=(16, 8, 4, 2)) # should use the same argu as it in the training.\n",
    "mdl_fn = 'bragg_final_model.pth'\n",
    "\n",
    "# may need to replace torch.load with torch.jit.loadif it doesn't work\n",
    "model.load_state_dict(torch.load(mdl_fn, map_location=torch.device('cpu')))"
   ]
  },
  {
   "cell_type": "code",
   "execution_count": 12,
   "id": "77b544bf",
   "metadata": {},
   "outputs": [
    {
     "data": {
      "image/png": "[encoded data removed]",
      "text/plain": [
       "<Figure size 432x288 with 1 Axes>"
      ]
     },
     "metadata": {
      "needs_background": "light"
     },
     "output_type": "display_data"
    }
   ],
   "source": [
    "# use a simple gaussian for demo\n",
    "# node that models in this repo are pre-trained with real experiment data\n",
    "# the simple gaussian data may not simplify anything but makes a challenge to the model\n",
    "# as the train data and testing data are not IID.\n",
    "X_test = np.zeros((11, 11))\n",
    "x_cen, y_cen = 6.0, 5.0\n",
    "\n",
    "sig_x, sig_y = 0.6, 1.5\n",
    "for x in range(11):\n",
    "    for y in range(11):\n",
    "        X_test[y][x] = 1000*(np.exp(-(x-x_cen)*(x-x_cen)/2*sig_x -(y-y_cen)*(y-y_cen)/2*sig_y))\n",
    "\n",
    "# the input needs to be normalize to 0-1, e.g., rescale using min-max norm\n",
    "X_test = (X_test - X_test.min()) / (X_test.max() - X_test.min())\n",
    "\n",
    "plt.imshow(X_test, cmap='seismic')\n",
    "plt.show(); plt.close()"
   ]
  },
  {
   "cell_type": "code",
   "execution_count": 5,
   "id": "995ba5bd",
   "metadata": {},
   "outputs": [
    {
     "name": "stderr",
     "output_type": "stream",
     "text": [
      "[W NNPACK.cpp:79] Could not initialize NNPACK! Reason: Unsupported hardware.\n"
     ]
    }
   ],
   "source": [
    "input_tensor = torch.from_numpy(X_test[np.newaxis, np.newaxis].astype('float32'))\n",
    "with torch.no_grad():\n",
    "    pred = model.forward(input_tensor).cpu().numpy()"
   ]
  },
  {
   "cell_type": "code",
   "execution_count": 6,
   "id": "42488adc",
   "metadata": {},
   "outputs": [],
   "source": [
    "# scale back peak location by multiply with patch size\n",
    "res = pred * 11"
   ]
  },
  {
   "cell_type": "code",
   "execution_count": 7,
   "id": "41a998ff",
   "metadata": {},
   "outputs": [
    {
     "data": {
      "text/plain": [
       "array([[5.9369993, 5.1481276]], dtype=float32)"
      ]
     },
     "execution_count": 7,
     "metadata": {},
     "output_type": "execute_result"
    }
   ],
   "source": [
    "res"
   ]
  },
  {
   "cell_type": "code",
   "execution_count": 8,
   "id": "e6bd320c",
   "metadata": {
    "scrolled": true
   },
   "outputs": [
    {
     "name": "stdout",
     "output_type": "stream",
     "text": [
      "Requirement already satisfied: dlhub-sdk in /Users/aristanascourtas/opt/anaconda3/lib/python3.8/site-packages (0.9.8)\n",
      "Collecting dlhub-sdk\n",
      "  Using cached dlhub_sdk-0.10.2-py2.py3-none-any.whl (42 kB)\n",
      "Requirement already satisfied: requests>=2.24.0 in /Users/aristanascourtas/opt/anaconda3/lib/python3.8/site-packages (from dlhub-sdk) (2.27.1)\n",
      "Requirement already satisfied: jsonschema>=3.2.0 in /Users/aristanascourtas/opt/anaconda3/lib/python3.8/site-packages (from dlhub-sdk) (3.2.0)\n",
      "Requirement already satisfied: pydantic in /Users/aristanascourtas/opt/anaconda3/lib/python3.8/site-packages (from dlhub-sdk) (1.8.1)\n",
      "Collecting funcx>=0.3.6\n",
      "  Using cached funcx-0.3.9-py3-none-any.whl (53 kB)\n",
      "Collecting globus-sdk<4,>=3\n",
      "  Downloading globus_sdk-3.10.0-py3-none-any.whl (184 kB)\n",
      "\u001b[K     |████████████████████████████████| 184 kB 3.9 MB/s eta 0:00:01\n",
      "\u001b[?25hRequirement already satisfied: mdf-toolbox>=0.5.4 in /Users/aristanascourtas/opt/anaconda3/lib/python3.8/site-packages (from dlhub-sdk) (0.5.7)\n",
      "Requirement already satisfied: websockets==9.1 in /Users/aristanascourtas/opt/anaconda3/lib/python3.8/site-packages (from funcx>=0.3.6->dlhub-sdk) (9.1)\n",
      "Collecting dill==0.3.4\n",
      "  Using cached dill-0.3.4-py2.py3-none-any.whl (86 kB)\n",
      "Collecting texttable<2,>=1.6.4\n",
      "  Using cached texttable-1.6.4-py2.py3-none-any.whl (10 kB)\n",
      "Collecting fair-research-login==0.2.6\n",
      "  Using cached fair_research_login-0.2.6-py2.py3-none-any.whl (28 kB)\n",
      "Requirement already satisfied: six in /Users/aristanascourtas/opt/anaconda3/lib/python3.8/site-packages (from fair-research-login==0.2.6->funcx>=0.3.6->dlhub-sdk) (1.16.0)\n",
      "Collecting pyjwt[crypto]<3.0.0,>=2.0.0\n",
      "  Using cached PyJWT-2.4.0-py3-none-any.whl (18 kB)\n",
      "Collecting typing-extensions>=4.0\n",
      "  Using cached typing_extensions-4.2.0-py3-none-any.whl (24 kB)\n",
      "Requirement already satisfied: cryptography!=3.4.0,>=3.3.1 in /Users/aristanascourtas/opt/anaconda3/lib/python3.8/site-packages (from globus-sdk<4,>=3->dlhub-sdk) (36.0.0)\n",
      "Requirement already satisfied: cffi>=1.12 in /Users/aristanascourtas/opt/anaconda3/lib/python3.8/site-packages (from cryptography!=3.4.0,>=3.3.1->globus-sdk<4,>=3->dlhub-sdk) (1.15.0)\n",
      "Requirement already satisfied: pycparser in /Users/aristanascourtas/opt/anaconda3/lib/python3.8/site-packages (from cffi>=1.12->cryptography!=3.4.0,>=3.3.1->globus-sdk<4,>=3->dlhub-sdk) (2.21)\n",
      "Requirement already satisfied: attrs>=17.4.0 in /Users/aristanascourtas/opt/anaconda3/lib/python3.8/site-packages (from jsonschema>=3.2.0->dlhub-sdk) (21.4.0)\n",
      "Requirement already satisfied: setuptools in /Users/aristanascourtas/opt/anaconda3/lib/python3.8/site-packages (from jsonschema>=3.2.0->dlhub-sdk) (58.0.4)\n",
      "Requirement already satisfied: pyrsistent>=0.14.0 in /Users/aristanascourtas/opt/anaconda3/lib/python3.8/site-packages (from jsonschema>=3.2.0->dlhub-sdk) (0.18.0)\n",
      "Requirement already satisfied: globus-nexus-client>=0.2.8 in /Users/aristanascourtas/opt/anaconda3/lib/python3.8/site-packages (from mdf-toolbox>=0.5.4->dlhub-sdk) (0.3.0)\n",
      "Collecting globus-nexus-client>=0.2.8\n",
      "  Using cached globus_nexus_client-0.4.1-py3-none-any.whl (9.2 kB)\n",
      "Requirement already satisfied: certifi>=2017.4.17 in /Users/aristanascourtas/opt/anaconda3/lib/python3.8/site-packages (from requests>=2.24.0->dlhub-sdk) (2021.10.8)\n",
      "Requirement already satisfied: idna<4,>=2.5 in /Users/aristanascourtas/opt/anaconda3/lib/python3.8/site-packages (from requests>=2.24.0->dlhub-sdk) (3.3)\n",
      "Requirement already satisfied: urllib3<1.27,>=1.21.1 in /Users/aristanascourtas/opt/anaconda3/lib/python3.8/site-packages (from requests>=2.24.0->dlhub-sdk) (1.26.7)\n",
      "Requirement already satisfied: charset-normalizer~=2.0.0 in /Users/aristanascourtas/opt/anaconda3/lib/python3.8/site-packages (from requests>=2.24.0->dlhub-sdk) (2.0.4)\n",
      "Installing collected packages: pyjwt, typing-extensions, globus-sdk, texttable, globus-nexus-client, fair-research-login, dill, funcx, dlhub-sdk\n",
      "  Attempting uninstall: pyjwt\n",
      "    Found existing installation: PyJWT 1.7.1\n",
      "    Uninstalling PyJWT-1.7.1:\n",
      "      Successfully uninstalled PyJWT-1.7.1\n",
      "  Attempting uninstall: typing-extensions\n",
      "    Found existing installation: typing-extensions 3.10.0.2\n",
      "    Uninstalling typing-extensions-3.10.0.2:\n",
      "      Successfully uninstalled typing-extensions-3.10.0.2\n",
      "  Attempting uninstall: globus-sdk\n",
      "    Found existing installation: globus-sdk 2.0.1\n",
      "    Uninstalling globus-sdk-2.0.1:\n",
      "      Successfully uninstalled globus-sdk-2.0.1\n",
      "  Attempting uninstall: texttable\n",
      "    Found existing installation: texttable 1.6.3\n",
      "    Uninstalling texttable-1.6.3:\n",
      "      Successfully uninstalled texttable-1.6.3\n",
      "  Attempting uninstall: globus-nexus-client\n",
      "    Found existing installation: globus-nexus-client 0.3.0\n",
      "    Uninstalling globus-nexus-client-0.3.0:\n",
      "      Successfully uninstalled globus-nexus-client-0.3.0\n",
      "  Attempting uninstall: fair-research-login\n",
      "    Found existing installation: fair-research-login 0.2.0\n",
      "    Uninstalling fair-research-login-0.2.0:\n",
      "      Successfully uninstalled fair-research-login-0.2.0\n",
      "  Attempting uninstall: dill\n",
      "    Found existing installation: dill 0.3.3\n",
      "    Uninstalling dill-0.3.3:\n",
      "      Successfully uninstalled dill-0.3.3\n",
      "  Attempting uninstall: funcx\n",
      "    Found existing installation: funcx 0.0.5\n",
      "    Uninstalling funcx-0.0.5:\n",
      "      Successfully uninstalled funcx-0.0.5\n",
      "  Attempting uninstall: dlhub-sdk\n",
      "    Found existing installation: dlhub-sdk 0.9.8\n",
      "    Uninstalling dlhub-sdk-0.9.8:\n",
      "      Successfully uninstalled dlhub-sdk-0.9.8\n",
      "\u001b[31mERROR: pip's dependency resolver does not currently take into account all the packages that are installed. This behaviour is the source of the following dependency conflicts.\n",
      "funcx-endpoint 0.3.4 requires globus-sdk<3, but you have globus-sdk 3.10.0 which is incompatible.\n",
      "funcx-endpoint 0.3.4 requires pyzmq!=22.3.0,>=22.0.0, but you have pyzmq 22.3.0 which is incompatible.\u001b[0m\n",
      "Successfully installed dill-0.3.4 dlhub-sdk-0.10.2 fair-research-login-0.2.6 funcx-0.3.9 globus-nexus-client-0.4.1 globus-sdk-3.10.0 pyjwt-2.4.0 texttable-1.6.4 typing-extensions-4.2.0\n"
     ]
    }
   ],
   "source": [
    "!pip install --upgrade dlhub-sdk"
   ]
  },
  {
   "cell_type": "markdown",
   "id": "cc6b31fa",
   "metadata": {},
   "source": [
    "# Publish to DLHub"
   ]
  },
  {
   "cell_type": "code",
   "execution_count": 10,
   "id": "6158d4bb",
   "metadata": {},
   "outputs": [],
   "source": [
    "# copied to inference.py, no longer needed in notebook\n",
    "def run_inference(input_data):\n",
    "    import numpy as np\n",
    "    from matplotlib import pyplot as plt\n",
    "    import torch\n",
    "    from model import BraggNN\n",
    "\n",
    "\n",
    "    # load a pre-trained model\n",
    "    model  = BraggNN(imgsz=11, fcsz=(16, 8, 4, 2)) # should use the same argu as it in the training.\n",
    "    mdl_fn = 'bragg_final_model.pth'\n",
    "\n",
    "    # may need to replace torch.load with torch.jit.loadif it doesn't work\n",
    "    model.load_state_dict(torch.load(mdl_fn, map_location=torch.device('cpu')))\n",
    "\n",
    "    input_tensor = torch.from_numpy(input_data)\n",
    "    with torch.no_grad():\n",
    "        pred = model.forward(input_tensor).cpu().numpy()\n",
    "\n",
    "    # scale back peak location by multiply with patch size\n",
    "    return pred * 11"
   ]
  },
  {
   "cell_type": "code",
   "execution_count": 1,
   "id": "8a50692b",
   "metadata": {},
   "outputs": [],
   "source": [
    "# get the pointer to the inference function\n",
    "from inference import run_inference"
   ]
  },
  {
   "cell_type": "code",
   "execution_count": 2,
   "id": "3d0cfc1e",
   "metadata": {},
   "outputs": [],
   "source": [
    "from dlhub_sdk import DLHubClient\n",
    "from dlhub_sdk.models.servables.python import PythonStaticMethodModel\n",
    "\n",
    "dl = DLHubClient()\n",
    "model = PythonStaticMethodModel.from_function_pointer(run_inference)"
   ]
  },
  {
   "cell_type": "code",
   "execution_count": 3,
   "id": "ccf4680a",
   "metadata": {},
   "outputs": [
    {
     "data": {
      "text/plain": [
       "PythonStaticMethodModel(dlhub=DLHubMetadata(version='0.10.0', domains=[], visible_to=['public'], name='BraggNN_PT_CPU', files={'other': ['bragg_final_model.pth', 'model.py', 'inference.py', 'util.py']}, dependencies={'python': {'numpy': '1.21.1', 'torch': '1.8.0'}}, test=None, type='servable'), datacite=Datacite(identifier=DataciteIdentifier(identifier='10.datacite/placeholder', identifierType=<DataciteIdentifierType.DOI: 'DOI'>), creators=[DataciteCreator(creatorName=None, nameIdentifiers=[], affiliations=[], familyName='Ravi', givenName='Nikil'), DataciteCreator(creatorName=None, nameIdentifiers=[], affiliations=[], familyName='Chaturvedi', givenName='Pranshu'), DataciteCreator(creatorName=None, nameIdentifiers=[], affiliations=[], familyName='Huerta', givenName='E.A.'), DataciteCreator(creatorName=None, nameIdentifiers=[], affiliations=[], familyName='Liu', givenName='Zhengchun'), DataciteCreator(creatorName=None, nameIdentifiers=[], affiliations=[], familyName='Scourtas', givenName='Aristana'), DataciteCreator(creatorName=None, nameIdentifiers=[], affiliations=[], familyName='Schmidt', givenName='KJ'), DataciteCreator(creatorName=None, nameIdentifiers=[], affiliations=[], familyName='Chard', givenName='Ryan'), DataciteCreator(creatorName=None, nameIdentifiers=[], affiliations=[], familyName='Blaiszik', givenName='Ben')], titles=[DataciteTitle(title='PyTorch BraggNN for CPU', type=None, lang=None)], publisher='DLHub', publicationYear='', subjects=[], resourceType={'resourceTypeGeneral': 'InteractiveResource'}, contributors=[], descriptions=[], language=None, alternateIdentifiers=[], relatedIdentifiers=[], rightsList=[], fundingReferences=[], version=None), servable=ServableMetadata(type='Python static method', shim='python.PythonStaticMethodServable', model_type=None, model_summary=None, methods={'run': MethodMetadata(input=ArgumentTypeMetadata(type='ndarray', description='Image map', shape=[11, 11], python_type=None, item_type=None, element_types=None, properties=None), output=ArgumentTypeMetadata(type='ndarray', description='list of Bragg peak positions', shape=[1, 2], python_type=None, item_type=None, element_types=None, properties=None), parameters={}, method_details={'method_name': 'run_inference', 'module': 'inference', 'autobatch': False})}, options={}))"
      ]
     },
     "execution_count": 3,
     "metadata": {},
     "output_type": "execute_result"
    }
   ],
   "source": [
    "# set model basics\n",
    "# first (BraggNN_one_peak_test) could not find inference in __main__ (I think?)\n",
    "# 2 included proper visibility group, also included inference.py as new file, also added all necessary files to servable\n",
    "# 3 included matplotlib in requirements, also included scaling of predictions\n",
    "# 4 remove matplotlib from reqs and from imports (getting a certifi error again) -- now it works!\n",
    "# 5 is republished with DLHub X (v0.10.0)\n",
    "model_name = 'BraggNN_PT_CPU'\n",
    "model_title = 'PyTorch BraggNN for CPU'\n",
    "model.set_name(model_name).set_title(model_title)\n",
    "\n",
    "model.set_creators(['Ravi, Nikil',\n",
    "                    'Chaturvedi, Pranshu',\n",
    "                    'Huerta, E.A.',\n",
    "                    'Liu, Zhengchun',\n",
    "                    'Scourtas, Aristana',\n",
    "                    'Schmidt, KJ',\n",
    "                    'Chard, Ryan',\n",
    "                    'Blaiszik, Ben'])\n",
    "\n",
    "# set model visibility -- keep it private for now, set to internal Globus group\n",
    "# model.set_visibility(groups=['e42501dd-22eb-11ec-8133-25fb1049fcf5'])\n",
    "\n",
    "# set description of inputs to model, and outputs\n",
    "model.set_inputs('ndarray', 'Image map', shape=([11, 11]))\n",
    "model.set_outputs('ndarray', 'list of Bragg peak positions', shape=([1, 2]))\n",
    "\n",
    "# set package requirements\n",
    "model.add_requirement('numpy', '1.21.1')\n",
    "model.add_requirement('torch', '1.8.0')\n",
    "\n",
    "# add any files necessary for inference\n",
    "model.add_file('bragg_final_model.pth')\n",
    "model.add_file('model.py')\n",
    "model.add_file('inference.py')\n",
    "model.add_file('util.py')"
   ]
  },
  {
   "cell_type": "code",
   "execution_count": 4,
   "id": "0404197e",
   "metadata": {},
   "outputs": [
    {
     "data": {
      "text/plain": [
       "'Python static method'"
      ]
     },
     "execution_count": 4,
     "metadata": {},
     "output_type": "execute_result"
    }
   ],
   "source": [
    "model._get_type()\n"
   ]
  },
  {
   "cell_type": "code",
   "execution_count": 5,
   "id": "90985fbc",
   "metadata": {
    "scrolled": false
   },
   "outputs": [],
   "source": [
    "from dlhub_sdk.utils.schemas import validate_against_dlhub_schema\n",
    "\n",
    "validate_against_dlhub_schema(model.to_dict(), 'servable')"
   ]
  },
  {
   "cell_type": "code",
   "execution_count": 6,
   "id": "42a2c363",
   "metadata": {},
   "outputs": [
    {
     "data": {
      "text/plain": [
       "'4b92f988-1cd0-4514-ae33-7e94005026f3'"
      ]
     },
     "execution_count": 6,
     "metadata": {},
     "output_type": "execute_result"
    }
   ],
   "source": [
    "res = dl.publish_servable(model)\n",
    "res"
   ]
  },
  {
   "cell_type": "markdown",
   "id": "6ace3173",
   "metadata": {},
   "source": [
    "# Run in DLHub"
   ]
  },
  {
   "cell_type": "code",
   "execution_count": 15,
   "id": "c611865e",
   "metadata": {},
   "outputs": [
    {
     "data": {
      "text/plain": [
       "array([[5.9369993, 5.1481276]], dtype=float32)"
      ]
     },
     "execution_count": 15,
     "metadata": {},
     "output_type": "execute_result"
    }
   ],
   "source": [
    "dl.run('aristana_uchicago/BraggNN_PT_CPU', X_test[np.newaxis, np.newaxis].astype('float32'))"
   ]
  },
  {
   "cell_type": "code",
   "execution_count": 14,
   "id": "4aaae5c2",
   "metadata": {},
   "outputs": [
    {
     "data": {
      "text/plain": [
       "'Hello world!'"
      ]
     },
     "execution_count": 14,
     "metadata": {},
     "output_type": "execute_result"
    }
   ],
   "source": [
    "dl.run('aristana_uchicago/noop_v14', True)"
   ]
  }
 ],
 "metadata": {
  "kernelspec": {
   "display_name": "Python 3 (ipykernel)",
   "language": "python",
   "name": "python3"
  },
  "language_info": {
   "codemirror_mode": {
    "name": "ipython",
    "version": 3
   },
   "file_extension": ".py",
   "mimetype": "text/x-python",
   "name": "python",
   "nbconvert_exporter": "python",
   "pygments_lexer": "ipython3",
   "version": "3.10.10"
  }
 },
 "nbformat": 4,
 "nbformat_minor": 5
}
