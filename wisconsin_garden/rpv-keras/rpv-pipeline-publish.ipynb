{
 "cells": [
  {
   "cell_type": "code",
   "execution_count": null,
   "metadata": {
    "id": "qww1_jOzP5S9"
   },
   "outputs": [],
   "source": [
    "!pip install tensorflow keras==2.12.0 scikit-learn pandas mastml"
   ]
  },
  {
   "cell_type": "code",
   "execution_count": null,
   "metadata": {
    "id": "b0s7Bealdp8M"
   },
   "outputs": [],
   "source": [
    "!pip install garden-ai"
   ]
  },
  {
   "cell_type": "code",
   "execution_count": null,
   "metadata": {},
   "outputs": [],
   "source": [
    "!pip install dill==0.3.5.1"
   ]
  },
  {
   "cell_type": "code",
   "execution_count": 10,
   "metadata": {
    "id": "H7em6SwMdvkt"
   },
   "outputs": [],
   "source": [
    "from garden_ai.model_connectors import HFConnector\n",
    "from garden_ai import EntrypointMetadata, garden_entrypoint, entrypoint_test"
   ]
  },
  {
   "cell_type": "code",
   "execution_count": 11,
   "metadata": {},
   "outputs": [],
   "source": [
    "import pandas as pd\n",
    "import io"
   ]
  },
  {
   "cell_type": "code",
   "execution_count": 7,
   "metadata": {},
   "outputs": [],
   "source": [
    "!mkdir RPV_model\n",
    "!mkdir RPV_model/fullfit"
   ]
  },
  {
   "cell_type": "code",
   "execution_count": 8,
   "metadata": {},
   "outputs": [
    {
     "data": {
      "application/vnd.jupyter.widget-view+json": {
       "model_id": "30851e2a502c4748b2e6c83f40c20021",
       "version_major": 2,
       "version_minor": 0
      },
      "text/plain": [
       "README.md:   0%|          | 0.00/21.0 [00:00<?, ?B/s]"
      ]
     },
     "metadata": {},
     "output_type": "display_data"
    }
   ],
   "source": [
    "my_hugging_face_repo = HFConnector(\"willengler-uc/rpv-alloys-fullfit\", local_dir=\"RPV_model/fullfit\")"
   ]
  },
  {
   "cell_type": "code",
   "execution_count": 9,
   "metadata": {
    "id": "PHtZD33NhCEF"
   },
   "outputs": [],
   "source": [
    "my_entrypoint_meta = EntrypointMetadata(\n",
    "    title=\"RPV Test\",\n",
    "    description=\"Just Will playing with Wisconsin's MPV Keras models\",\n",
    "    authors=[\"Ryan Jacobs\"],\n",
    "    tags=[\"materials science\"]\n",
    ")"
   ]
  },
  {
   "cell_type": "code",
   "execution_count": 17,
   "metadata": {
    "id": "6ls-44Wehec9"
   },
   "outputs": [],
   "source": [
    "@garden_entrypoint(metadata=my_entrypoint_meta,  model_connectors=[my_hugging_face_repo], garden_doi=\"10.23677/rk7c-5p19\")\n",
    "def predict_rpv_embrittlement(input_df: pd.DataFrame) -> pd.DataFrame:\n",
    "    my_hugging_face_repo.stage()\n",
    "    from model_predict_df import make_predictions_DNN\n",
    "    preds = make_predictions_DNN(input_df, \"fullfit\")\n",
    "    return preds"
   ]
  },
  {
   "cell_type": "code",
   "execution_count": 18,
   "metadata": {
    "id": "A9-UTFHAmCEq"
   },
   "outputs": [],
   "source": [
    "@entrypoint_test(predict_rpv_embrittlement)\n",
    "def run_on_test_data():\n",
    "    test_data_string = \"\"\"temperature_C,wt_percent_Cu,wt_percent_Ni,wt_percent_Mn,wt_percent_P,wt_percent_Si,wt_percent_C,log(fluence_n_cm2),log(flux_n_cm2_sec)\n",
    "287.0,0.04,0.74,0.6,0.012,0.23,0.21,18.664547962246548,11.165741355311178\n",
    "287.0,0.04,0.74,0.6,0.012,0.23,0.21,18.664547962246548,11.165741355311178\n",
    "287.0,0.04,0.74,0.6,0.012,0.23,0.21,19.641969597702058,11.160891757727123\n",
    "287.0,0.04,0.74,0.6,0.012,0.23,0.21,19.641969597702058,11.160891757727123\n",
    "287.0,0.03,0.56,1.4,0.005,0.31,0.13,18.664547962246548,11.165741355311178\n",
    "287.0,0.03,0.56,1.4,0.005,0.31,0.13,19.641969597702058,11.160891757727123\n",
    "291.1111111111111,0.15,0.52,1.32,0.01,0.2,0.21,17.861534410859036,10.389599950323971\n",
    "291.1111111111111,0.15,0.52,1.32,0.01,0.2,0.21,17.861534410859036,10.389599950323971\n",
    "292.22222222222223,0.15,0.52,1.32,0.01,0.2,0.21,19.012837224705173,10.966255912381982\n",
    "292.22222222222223,0.15,0.52,1.32,0.01,0.2,0.21,19.164352855784436,10.93719246682784\"\"\"\n",
    "    df = pd.read_csv(io.StringIO(test_data_string))\n",
    "    return predict_rpv_embrittlement(df)"
   ]
  },
  {
   "cell_type": "code",
   "execution_count": null,
   "metadata": {},
   "outputs": [],
   "source": [
    "# run_on_test_data()"
   ]
  }
 ],
 "metadata": {
  "colab": {
   "provenance": []
  },
  "kernelspec": {
   "display_name": "Python 3 (ipykernel)",
   "language": "python",
   "name": "python3"
  },
  "language_info": {
   "codemirror_mode": {
    "name": "ipython",
    "version": 3
   },
   "file_extension": ".py",
   "mimetype": "text/x-python",
   "name": "python",
   "nbconvert_exporter": "python",
   "pygments_lexer": "ipython3",
   "version": "3.10.12"
  }
 },
 "nbformat": 4,
 "nbformat_minor": 4
}
