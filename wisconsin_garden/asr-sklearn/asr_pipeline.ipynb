{
 "cells": [
  {
   "cell_type": "markdown",
   "metadata": {
    "id": "H24yDUiVP5-n"
   },
   "source": [
    "## Your Model 🌱Garden🌱 Execution Environment\n",
    "\n",
    "Use this notebook to write a function that executes your model(s). Tag that function with the `@garden_pipeline` decorator.\n",
    "\n",
    "Garden will take this notebook and build a container with it. When Garden executes your `@garden_pipeline`, it will be like like you have just run all the cells of this notebook once. So you can install libraries with `!pip install` and your function can use those libraries. You can also define helper functions and constants to use in your `@garden_pipeline`."
   ]
  },
  {
   "cell_type": "code",
   "execution_count": null,
   "metadata": {},
   "outputs": [],
   "source": [
    "!pip install garden-ai"
   ]
  },
  {
   "cell_type": "code",
   "execution_count": null,
   "metadata": {},
   "outputs": [],
   "source": [
    "!pip install mastml"
   ]
  },
  {
   "cell_type": "code",
   "execution_count": null,
   "metadata": {},
   "outputs": [],
   "source": [
    "!pip install pymatgen"
   ]
  },
  {
   "cell_type": "code",
   "execution_count": null,
   "metadata": {},
   "outputs": [],
   "source": [
    "!pip install dill==0.3.5.1"
   ]
  },
  {
   "cell_type": "code",
   "execution_count": null,
   "metadata": {},
   "outputs": [],
   "source": [
    "!pip install scikit-learn==1.1.3"
   ]
  },
  {
   "cell_type": "code",
   "execution_count": null,
   "metadata": {
    "id": "qww1_jOzP5S9"
   },
   "outputs": [],
   "source": [
    "from garden_ai.model_connectors import HFConnector\n",
    "from garden_ai import PipelineMetadata, garden_pipeline"
   ]
  },
  {
   "cell_type": "code",
   "execution_count": null,
   "metadata": {
    "id": "b0s7Bealdp8M"
   },
   "outputs": [],
   "source": [
    "import pandas as pd\n",
    "import sklearn\n",
    "import joblib"
   ]
  },
  {
   "cell_type": "code",
   "execution_count": null,
   "metadata": {},
   "outputs": [],
   "source": [
    "from typing import List"
   ]
  },
  {
   "cell_type": "code",
   "execution_count": null,
   "metadata": {
    "id": "H7em6SwMdvkt"
   },
   "outputs": [],
   "source": [
    "my_hugging_face_repo = HFConnector(\"willengler-uc/asr_model\", local_dir=\"ASR_model\")"
   ]
  },
  {
   "cell_type": "code",
   "execution_count": null,
   "metadata": {
    "id": "PHtZD33NhCEF"
   },
   "outputs": [],
   "source": [
    "my_pipeline_meta = PipelineMetadata(\n",
    "    title=\"Machine learning model of perovskite area specific resistance (ASR)\",\n",
    "    description=\"Random forest models to predict the stability and ASR for perovskite oxides useful for oxygen reduction and evolution catalysis\",\n",
    "    authors=[\"Ryan Jacobs\"],\n",
    "    tags=[\"materials science\"]\n",
    ")"
   ]
  },
  {
   "cell_type": "code",
   "execution_count": null,
   "metadata": {
    "id": "6ls-44Wehec9"
   },
   "outputs": [],
   "source": [
    "@garden_pipeline(metadata=my_pipeline_meta,  model_connectors=[my_hugging_face_repo], garden_doi=\"10.23677/9j8g-6g51\")\n",
    "def predict_asr(compound_list: List[str], electrolyte_list: List[str]) -> pd.DataFrame:\n",
    "    my_hugging_face_repo.stage()\n",
    "    from model_predict_df import make_predictions\n",
    "    return make_predictions(compound_list, electrolyte_list)"
   ]
  },
  {
   "cell_type": "code",
   "execution_count": null,
   "metadata": {
    "id": "pn2aa8wnhu2u"
   },
   "outputs": [],
   "source": [
    "def test_function():\n",
    "    compounds = ['La0.6Sr0.4Co0.2Fe0.8O3', 'Ba0.5Sr0.5Co0.8Fe0.2O3', 'La0.8Sr0.2MnO3']\n",
    "    electrolytes = ['ceria', 'ceria', 'zirconia']\n",
    "    return predict_asr(compounds, electrolytes)"
   ]
  },
  {
   "cell_type": "code",
   "execution_count": null,
   "metadata": {
    "id": "A9-UTFHAmCEq"
   },
   "outputs": [],
   "source": [
    "#test_function()"
   ]
  }
 ],
 "metadata": {
  "colab": {
   "provenance": []
  },
  "kernelspec": {
   "display_name": "Python 3 (ipykernel)",
   "language": "python",
   "name": "python3"
  },
  "language_info": {
   "codemirror_mode": {
    "name": "ipython",
    "version": 3
   },
   "file_extension": ".py",
   "mimetype": "text/x-python",
   "name": "python",
   "nbconvert_exporter": "python",
   "pygments_lexer": "ipython3",
   "version": "3.10.12"
  }
 },
 "nbformat": 4,
 "nbformat_minor": 4
}
