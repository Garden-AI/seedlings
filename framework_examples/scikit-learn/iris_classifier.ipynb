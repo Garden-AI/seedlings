{
 "cells": [
  {
   "cell_type": "code",
   "execution_count": null,
   "metadata": {},
   "outputs": [],
   "source": [
    "!pip install git+https://github.com/Garden-AI/garden.git@eec67b3d211d966ae2482edc30a0102af9d2f116\n",
    "!pip install scikit-learn==\"1.2.2\""
   ]
  },
  {
   "cell_type": "code",
   "execution_count": 2,
   "metadata": {
    "id": "qww1_jOzP5S9"
   },
   "outputs": [],
   "source": [
    "from garden_ai.model_connectors import HFConnector\n",
    "from garden_ai import PipelineMetadata, garden_pipeline"
   ]
  },
  {
   "cell_type": "code",
   "execution_count": 1,
   "metadata": {
    "id": "b0s7Bealdp8M"
   },
   "outputs": [],
   "source": [
    "import pandas as pd\n",
    "import sklearn\n",
    "import joblib\n",
    "from typing import List"
   ]
  },
  {
   "cell_type": "code",
   "execution_count": 3,
   "metadata": {
    "id": "H7em6SwMdvkt"
   },
   "outputs": [],
   "source": [
    "my_hugging_face_repo = HFConnector(\"willengler-uc/iris-classifier\")"
   ]
  },
  {
   "cell_type": "code",
   "execution_count": 4,
   "metadata": {
    "id": "PHtZD33NhCEF"
   },
   "outputs": [],
   "source": [
    "my_pipeline_meta = PipelineMetadata(\n",
    "    title=\"Iris Classifier\",\n",
    "    description=\"A simple demonstration of how to host a scikit-learn model with Garden.\",\n",
    "    authors=[\"Will Engler\"],\n",
    "    tags=[\"scikit-learn\", \"tutorial\"]\n",
    ")"
   ]
  },
  {
   "cell_type": "code",
   "execution_count": 11,
   "metadata": {},
   "outputs": [],
   "source": [
    "IRIS_NAMES = ['setosa', 'versicolor', 'virginica']"
   ]
  },
  {
   "cell_type": "code",
   "execution_count": 9,
   "metadata": {
    "id": "6ls-44Wehec9"
   },
   "outputs": [],
   "source": [
    "@garden_pipeline(metadata=my_pipeline_meta,  model_connectors=[my_hugging_face_repo], garden_doi=\"10.23677/6k5t-v242\")\n",
    "def classify_irises(input_array: List) -> List:\n",
    "    download_path = my_hugging_face_repo.stage()\n",
    "    model = joblib.load(f\"{download_path}/model.joblib\")\n",
    "    predictions = model.predict(input_array)\n",
    "    as_strings = [IRIS_NAMES[prediction] for prediction in predictions]\n",
    "    return as_strings"
   ]
  },
  {
   "cell_type": "markdown",
   "metadata": {
    "id": "dK3PHq2fhgxp"
   },
   "source": [
    "### Test your pipeline function\n",
    "\n",
    "Finally, make sure your `@garden_pipeline` works!\n",
    "When Garden makes a container from your notebook, it runs all the cells in order and saves the notebook. Then users invoke your `@garden_pipeline` in the context of the notebook.\n",
    "\n",
    "If you can hit \"Kernel\" -> \"Restart and run all cells\" and your test below works, your `@garden_pipeline` will work in your garden!\n"
   ]
  },
  {
   "cell_type": "code",
   "execution_count": 12,
   "metadata": {
    "id": "pn2aa8wnhu2u"
   },
   "outputs": [
    {
     "data": {
      "application/vnd.jupyter.widget-view+json": {
       "model_id": "3b8040e382ff47a499e72f7fc43dfcaa",
       "version_major": 2,
       "version_minor": 0
      },
      "text/plain": [
       "Fetching 4 files:   0%|          | 0/4 [00:00<?, ?it/s]"
      ]
     },
     "metadata": {},
     "output_type": "display_data"
    },
    {
     "data": {
      "text/plain": [
       "['setosa']"
      ]
     },
     "execution_count": 12,
     "metadata": {},
     "output_type": "execute_result"
    }
   ],
   "source": [
    "def test_model():\n",
    "    example_input = [[5.1, 3.5, 1.4, 0.2]]\n",
    "    result = classify_irises(example_input)\n",
    "    print(result)"
   ]
  }
 ],
 "metadata": {
  "colab": {
   "provenance": []
  },
  "kernelspec": {
   "display_name": "Python 3 (ipykernel)",
   "language": "python",
   "name": "python3"
  },
  "language_info": {
   "codemirror_mode": {
    "name": "ipython",
    "version": 3
   },
   "file_extension": ".py",
   "mimetype": "text/x-python",
   "name": "python",
   "nbconvert_exporter": "python",
   "pygments_lexer": "ipython3",
   "version": "3.10.12"
  }
 },
 "nbformat": 4,
 "nbformat_minor": 4
}
