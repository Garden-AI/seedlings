{
  "nbformat": 4,
  "nbformat_minor": 0,
  "metadata": {
    "colab": {
      "provenance": []
    },
    "kernelspec": {
      "name": "python3",
      "display_name": "Python 3"
    },
    "language_info": {
      "name": "python"
    }
  },
  "cells": [
    {
      "cell_type": "code",
      "execution_count": null,
      "metadata": {
        "id": "S6oyhfsy4fkp"
      },
      "outputs": [],
      "source": [
        "!pip install garden-ai"
      ]
    },
    {
      "cell_type": "code",
      "source": [
        "from garden_ai import GardenClient\n",
        "gc = GardenClient()"
      ],
      "metadata": {
        "id": "0fETI-s24kn1"
      },
      "execution_count": null,
      "outputs": []
    },
    {
      "cell_type": "code",
      "source": [
        "framework_garden = gc.get_published_garden(\"10.23677/6k5t-v242\")"
      ],
      "metadata": {
        "id": "Szb5ZSqi4mWb"
      },
      "execution_count": 3,
      "outputs": []
    },
    {
      "cell_type": "code",
      "source": [
        "framework_garden.classify_irises([[5.1, 3.5, 1.4, 0.2]])"
      ],
      "metadata": {
        "colab": {
          "base_uri": "https://localhost:8080/"
        },
        "id": "oR1e0SXA4n5F",
        "outputId": "d1fee8ba-4336-4cf3-db5a-dbef2930791c"
      },
      "execution_count": 4,
      "outputs": [
        {
          "output_type": "execute_result",
          "data": {
            "text/plain": [
              "['setosa']"
            ]
          },
          "metadata": {},
          "execution_count": 4
        }
      ]
    }
  ]
}