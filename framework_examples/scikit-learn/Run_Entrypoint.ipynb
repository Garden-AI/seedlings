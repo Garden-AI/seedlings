{
  "cells": [
    {
      "cell_type": "code",
      "execution_count": null,
      "metadata": {
        "id": "S6oyhfsy4fkp"
      },
      "outputs": [],
      "source": [
        "!pip install garden-ai"
      ]
    },
    {
      "cell_type": "code",
      "execution_count": null,
      "metadata": {
        "id": "0fETI-s24kn1"
      },
      "outputs": [],
      "source": [
        "from garden_ai import GardenClient\n",
        "gc = GardenClient()"
      ]
    },
    {
      "cell_type": "code",
      "execution_count": 3,
      "metadata": {
        "id": "Szb5ZSqi4mWb"
      },
      "outputs": [],
      "source": [
        "framework_garden = gc.get_published_garden(\"10.26311/b74a-5c58\")"
      ]
    },
    {
      "cell_type": "code",
      "execution_count": 4,
      "metadata": {
        "colab": {
          "base_uri": "https://localhost:8080/"
        },
        "id": "oR1e0SXA4n5F",
        "outputId": "d1fee8ba-4336-4cf3-db5a-dbef2930791c"
      },
      "outputs": [
        {
          "data": {
            "text/plain": [
              "['setosa']"
            ]
          },
          "execution_count": 4,
          "metadata": {},
          "output_type": "execute_result"
        }
      ],
      "source": [
        "framework_garden.classify_irises([[5.1, 3.5, 1.4, 0.2]])"
      ]
    }
  ],
  "metadata": {
    "colab": {
      "provenance": []
    },
    "kernelspec": {
      "display_name": "Python 3",
      "name": "python3"
    },
    "language_info": {
      "name": "python"
    }
  },
  "nbformat": 4,
  "nbformat_minor": 0
}
