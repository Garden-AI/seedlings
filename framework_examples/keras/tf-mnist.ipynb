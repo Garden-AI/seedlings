{
 "cells": [
  {
   "cell_type": "markdown",
   "metadata": {
    "id": "H24yDUiVP5-n"
   },
   "source": [
    "## Your Model 🌱Garden🌱 Execution Environment\n",
    "\n",
    "Use this notebook to write a function that executes your model(s). Tag that function with the `@garden_pipeline` decorator.\n",
    "\n",
    "Garden will take this notebook and build a container with it. When Garden executes your `@garden_pipeline`, it will be like like you have just run all the cells of this notebook once. So you can install libraries with `!pip install` and your function can use those libraries. You can also define helper functions and constants to use in your `@garden_pipeline`."
   ]
  },
  {
   "cell_type": "code",
   "execution_count": null,
   "metadata": {},
   "outputs": [],
   "source": [
    "!pip install garden-ai\n",
    "!pip install tensorflow==\"2.14.0\""
   ]
  },
  {
   "cell_type": "code",
   "execution_count": 1,
   "metadata": {
    "id": "qww1_jOzP5S9"
   },
   "outputs": [],
   "source": [
    "from garden_ai.model_connectors import HFConnector\n",
    "from garden_ai import PipelineMetadata, garden_pipeline\n",
    "\n",
    "import numpy as np\n",
    "from tensorflow.keras.models import load_model\n",
    "from tensorflow.keras.datasets import mnist"
   ]
  },
  {
   "cell_type": "markdown",
   "metadata": {
    "id": "3aikfsCRdrEZ"
   },
   "source": [
    "### Model connectors\n",
    "\n",
    "Model connectors let Garden import metadata about your model.\n",
    "They also have a `stage` method that you can use to download your model weights."
   ]
  },
  {
   "cell_type": "code",
   "execution_count": 3,
   "metadata": {
    "id": "H7em6SwMdvkt"
   },
   "outputs": [],
   "source": [
    "my_hugging_face_repo = HFConnector(\"willengler-uc/keras-mnist\")"
   ]
  },
  {
   "cell_type": "markdown",
   "metadata": {
    "id": "FTziKOq7d1Qs"
   },
   "source": [
    "### Pipeline metadata\n",
    "\n",
    "\n",
    "To publish your function, Garden needs metadata so that other users can discover it.\n",
    "Edit this PipelineMetadata object to describe your function.\n"
   ]
  },
  {
   "cell_type": "code",
   "execution_count": 9,
   "metadata": {
    "id": "PHtZD33NhCEF"
   },
   "outputs": [],
   "source": [
    "my_pipeline_meta = PipelineMetadata(\n",
    "    title=\"Keras MNIST digit classifier\",\n",
    "    description=\"Classify fuzzy black and white digits with TensorFlow\",\n",
    "    authors=[\"Will Engler\"],\n",
    "    tags=[\"MNIST digits\", \"Keras\"]\n",
    ")"
   ]
  },
  {
   "cell_type": "markdown",
   "metadata": {
    "id": "bDPkWjAShSKr"
   },
   "source": [
    "### Write your pipeline function that will run remotely\n",
    "\n",
    "The `@garden_pipeline` decorator makes this function available to run in your garden when you publish the notebook.\n",
    "Download your model weights and call your model in this function.\n",
    "\n",
    "In the decorator be sure to include:\n",
    "- your pipeline metadata,\n",
    "- connectors for any models you're using,\n",
    "- the DOI of the garden you want this pipeline to be found in. (Check `garden-ai garden list` for the DOIs of your gardens.)"
   ]
  },
  {
   "cell_type": "code",
   "execution_count": 14,
   "metadata": {
    "id": "6ls-44Wehec9"
   },
   "outputs": [],
   "source": [
    "@garden_pipeline(metadata=my_pipeline_meta,  model_connectors=[my_hugging_face_repo], garden_doi=\"10.23677/j4cg-6427\")\n",
    "def classify_digit(image):\n",
    "    download_path = my_hugging_face_repo.stage()\n",
    "    model = load_model(f\"{download_path}/mnist_model.keras\")\n",
    "    prediction = model.predict(image)\n",
    "    return np.argmax(prediction)"
   ]
  },
  {
   "cell_type": "markdown",
   "metadata": {
    "id": "dK3PHq2fhgxp"
   },
   "source": [
    "### Test your pipeline function\n",
    "\n",
    "Finally, make sure your `@garden_pipeline` works!\n",
    "When Garden makes a container from your notebook, it runs all the cells in order and saves the notebook. Then users invoke your `@garden_pipeline` in the context of the notebook.\n",
    "\n",
    "If you can hit \"Kernel\" -> \"Restart and run all cells\" and your test below works, your `@garden_pipeline` will work in your garden!\n"
   ]
  },
  {
   "cell_type": "code",
   "execution_count": 15,
   "metadata": {
    "id": "pn2aa8wnhu2u"
   },
   "outputs": [],
   "source": [
    "def test_the_model():\n",
    "    (train_images, train_labels), (test_images, test_labels) = mnist.load_data()\n",
    "    test_images = test_images.reshape((10000, 28, 28, 1)).astype('float32') / 255\n",
    "    sample_image = test_images[0]\n",
    "    sample_image = np.expand_dims(sample_image, axis=0)\n",
    "    return classify_digit(sample_image)"
   ]
  },
  {
   "cell_type": "code",
   "execution_count": null,
   "metadata": {
    "id": "A9-UTFHAmCEq"
   },
   "outputs": [],
   "source": [
    "#test_the_model()"
   ]
  },
  {
   "cell_type": "code",
   "execution_count": null,
   "metadata": {},
   "outputs": [],
   "source": []
  }
 ],
 "metadata": {
  "colab": {
   "provenance": []
  },
  "kernelspec": {
   "display_name": "Python 3 (ipykernel)",
   "language": "python",
   "name": "python3"
  },
  "language_info": {
   "codemirror_mode": {
    "name": "ipython",
    "version": 3
   },
   "file_extension": ".py",
   "mimetype": "text/x-python",
   "name": "python",
   "nbconvert_exporter": "python",
   "pygments_lexer": "ipython3",
   "version": "3.10.12"
  }
 },
 "nbformat": 4,
 "nbformat_minor": 4
}
