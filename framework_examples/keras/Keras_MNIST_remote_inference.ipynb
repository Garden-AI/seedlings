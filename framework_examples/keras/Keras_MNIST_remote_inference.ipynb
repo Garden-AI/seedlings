{
  "cells": [
    {
      "cell_type": "code",
      "execution_count": null,
      "metadata": {
        "id": "rmqoG6PACwba"
      },
      "outputs": [],
      "source": [
        "!pip install garden-ai"
      ]
    },
    {
      "cell_type": "code",
      "execution_count": 5,
      "metadata": {
        "id": "ue9Mpf7WDWP_"
      },
      "outputs": [],
      "source": [
        "from garden_ai import GardenClient\n",
        "import numpy as np\n",
        "from tensorflow.keras.datasets import mnist\n",
        "import matplotlib.pyplot as plt"
      ]
    },
    {
      "cell_type": "code",
      "execution_count": null,
      "metadata": {
        "id": "OruEI2nuDJWm"
      },
      "outputs": [],
      "source": [
        "gc = GardenClient()"
      ]
    },
    {
      "cell_type": "code",
      "execution_count": 7,
      "metadata": {
        "id": "6Wrhn1Q6DmLQ"
      },
      "outputs": [],
      "source": [
        "def get_test_image():\n",
        "  (train_images, train_labels), (test_images, test_labels) = mnist.load_data()\n",
        "  test_images = test_images.reshape((10000, 28, 28, 1)).astype('float32') / 255\n",
        "  sample_image = test_images[0]\n",
        "  return sample_image"
      ]
    },
    {
      "cell_type": "code",
      "execution_count": 16,
      "metadata": {
        "colab": {
          "base_uri": "https://localhost:8080/",
          "height": 406
        },
        "id": "iaU9istTEC1W",
        "outputId": "61ba5ca9-4a33-4765-bada-e3b81cdf139a"
      },
      "outputs": [
        {
          "data": {
            "image/png": "[encoded data removed]",
            "text/plain": [
              "<Figure size 640x480 with 1 Axes>"
            ]
          },
          "metadata": {},
          "output_type": "display_data"
        }
      ],
      "source": [
        "test_image = get_test_image()\n",
        "\n",
        "plt.imshow(test_image.reshape(28, 28), cmap='gray')\n",
        "plt.axis('off')\n",
        "plt.show()"
      ]
    },
    {
      "cell_type": "code",
      "execution_count": 17,
      "metadata": {
        "colab": {
          "base_uri": "https://localhost:8080/"
        },
        "id": "QPt3hUbKDTyK",
        "outputId": "f52cec8c-4215-4a54-dce1-20d9455199c6"
      },
      "outputs": [
        {
          "data": {
            "text/plain": [
              "7"
            ]
          },
          "execution_count": 17,
          "metadata": {},
          "output_type": "execute_result"
        }
      ],
      "source": [
        "keras_garden = gc.get_published_garden(\"10.26311/b74a-5c58\")\n",
        "reshaped = np.expand_dims(test_image, axis=0)\n",
        "keras_garden.classify_digit(reshaped)"
      ]
    }
  ],
  "metadata": {
    "colab": {
      "provenance": []
    },
    "kernelspec": {
      "display_name": "Python 3",
      "name": "python3"
    },
    "language_info": {
      "name": "python"
    }
  },
  "nbformat": 4,
  "nbformat_minor": 0
}
