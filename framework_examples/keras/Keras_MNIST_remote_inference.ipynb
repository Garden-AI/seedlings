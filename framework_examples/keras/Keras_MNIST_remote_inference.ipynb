{
  "nbformat": 4,
  "nbformat_minor": 0,
  "metadata": {
    "colab": {
      "provenance": []
    },
    "kernelspec": {
      "name": "python3",
      "display_name": "Python 3"
    },
    "language_info": {
      "name": "python"
    }
  },
  "cells": [
    {
      "cell_type": "code",
      "execution_count": null,
      "metadata": {
        "id": "rmqoG6PACwba"
      },
      "outputs": [],
      "source": [
        "!pip install garden-ai"
      ]
    },
    {
      "cell_type": "code",
      "source": [
        "from garden_ai import GardenClient\n",
        "import numpy as np\n",
        "from tensorflow.keras.datasets import mnist\n",
        "import matplotlib.pyplot as plt"
      ],
      "metadata": {
        "id": "ue9Mpf7WDWP_"
      },
      "execution_count": 5,
      "outputs": []
    },
    {
      "cell_type": "code",
      "source": [
        "gc = GardenClient()"
      ],
      "metadata": {
        "id": "OruEI2nuDJWm"
      },
      "execution_count": null,
      "outputs": []
    },
    {
      "cell_type": "code",
      "source": [
        "def get_test_image():\n",
        "  (train_images, train_labels), (test_images, test_labels) = mnist.load_data()\n",
        "  test_images = test_images.reshape((10000, 28, 28, 1)).astype('float32') / 255\n",
        "  sample_image = test_images[0]\n",
        "  return sample_image"
      ],
      "metadata": {
        "id": "6Wrhn1Q6DmLQ"
      },
      "execution_count": 7,
      "outputs": []
    },
    {
      "cell_type": "code",
      "source": [
        "test_image = get_test_image()\n",
        "\n",
        "plt.imshow(test_image.reshape(28, 28), cmap='gray')\n",
        "plt.axis('off')\n",
        "plt.show()"
      ],
      "metadata": {
        "colab": {
          "base_uri": "https://localhost:8080/",
          "height": 406
        },
        "id": "iaU9istTEC1W",
        "outputId": "61ba5ca9-4a33-4765-bada-e3b81cdf139a"
      },
      "execution_count": 16,
      "outputs": [
        {
          "output_type": "display_data",
          "data": {
            "text/plain": [
              "<Figure size 640x480 with 1 Axes>"
            ],
            "image/png": "[encoded data removed]"
          },
          "metadata": {}
        }
      ]
    },
    {
      "cell_type": "code",
      "source": [
        "keras_garden = gc.get_published_garden(\"10.23677/j4cg-6427\")\n",
        "reshaped = np.expand_dims(test_image, axis=0)\n",
        "keras_garden.classify_digit(reshaped)"
      ],
      "metadata": {
        "colab": {
          "base_uri": "https://localhost:8080/"
        },
        "id": "QPt3hUbKDTyK",
        "outputId": "f52cec8c-4215-4a54-dce1-20d9455199c6"
      },
      "execution_count": 17,
      "outputs": [
        {
          "output_type": "execute_result",
          "data": {
            "text/plain": [
              "7"
            ]
          },
          "metadata": {},
          "execution_count": 17
        }
      ]
    }
  ]
}