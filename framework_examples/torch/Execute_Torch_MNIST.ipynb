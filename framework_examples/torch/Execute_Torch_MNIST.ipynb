{
  "nbformat": 4,
  "nbformat_minor": 0,
  "metadata": {
    "colab": {
      "provenance": []
    },
    "kernelspec": {
      "name": "python3",
      "display_name": "Python 3"
    },
    "language_info": {
      "name": "python"
    }
  },
  "cells": [
    {
      "cell_type": "code",
      "source": [
        "!pip install git+https://github.com/Garden-AI/garden.git@a33dae1226ba258f27f6fbcc76c3d120f22c9a34"
      ],
      "metadata": {
        "id": "pWc1VGStPYCB"
      },
      "execution_count": null,
      "outputs": []
    },
    {
      "cell_type": "code",
      "source": [
        "import torch\n",
        "from torch.utils.data import DataLoader\n",
        "from torchvision import datasets, transforms"
      ],
      "metadata": {
        "id": "1naFM9HdPa07"
      },
      "execution_count": 2,
      "outputs": []
    },
    {
      "cell_type": "code",
      "source": [
        "from garden_ai import GardenClient"
      ],
      "metadata": {
        "id": "LSbeYqTeP-Dq"
      },
      "execution_count": 5,
      "outputs": []
    },
    {
      "cell_type": "code",
      "execution_count": 3,
      "metadata": {
        "id": "cM4gyoVbPMHX"
      },
      "outputs": [],
      "source": [
        "def get_a_test_image_batch():\n",
        "    transform = transforms.Compose([transforms.ToTensor(), transforms.Normalize((0.1307,), (0.3081,))])\n",
        "    test_dataset = datasets.MNIST(root='./data', train=False, transform=transform, download=True)\n",
        "    test_loader = DataLoader(test_dataset, batch_size=64, shuffle=True)\n",
        "    data, target = next(iter(test_loader))\n",
        "    return data, target"
      ]
    },
    {
      "cell_type": "code",
      "source": [
        "test_image_batch, expected_result_batch = get_a_test_image_batch()"
      ],
      "metadata": {
        "id": "AXz4XKhdP2d2"
      },
      "execution_count": null,
      "outputs": []
    },
    {
      "cell_type": "code",
      "source": [
        "gc = GardenClient()"
      ],
      "metadata": {
        "id": "rHvyBjxjP8Py"
      },
      "execution_count": null,
      "outputs": []
    },
    {
      "cell_type": "code",
      "source": [
        "mnist_example_garden = gc.get_published_garden('10.23677/crbc-v840')"
      ],
      "metadata": {
        "id": "QBUvKMNvQCTW"
      },
      "execution_count": 7,
      "outputs": []
    },
    {
      "cell_type": "code",
      "source": [
        "classified_digits = mnist_example_garden.classify_digits_mnist(test_image_batch)"
      ],
      "metadata": {
        "id": "rZyv3bdtQMlv"
      },
      "execution_count": 8,
      "outputs": []
    },
    {
      "cell_type": "code",
      "source": [
        "print(f\"Classified {len(classified_digits)} digits\")\n",
        "print(\"Accuracy:\", (classified_digits == expected_result_batch).sum()/len(classified_digits))"
      ],
      "metadata": {
        "colab": {
          "base_uri": "https://localhost:8080/"
        },
        "id": "rs5we84BRypg",
        "outputId": "3981eca9-e5c6-423c-b677-1e69eda13228"
      },
      "execution_count": 9,
      "outputs": [
        {
          "output_type": "stream",
          "name": "stdout",
          "text": [
            "Classified 64 digits\n",
            "Accuracy: tensor(0.9844)\n"
          ]
        }
      ]
    },
    {
      "cell_type": "code",
      "source": [],
      "metadata": {
        "id": "Cxms7IcLSUXp"
      },
      "execution_count": null,
      "outputs": []
    }
  ]
}