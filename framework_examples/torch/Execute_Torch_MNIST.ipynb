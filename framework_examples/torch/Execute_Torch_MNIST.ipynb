{
  "cells": [
    {
      "cell_type": "code",
      "execution_count": null,
      "metadata": {
        "id": "pWc1VGStPYCB"
      },
      "outputs": [],
      "source": [
        "!pip install garden-ai"
      ]
    },
    {
      "cell_type": "code",
      "execution_count": 2,
      "metadata": {
        "id": "1naFM9HdPa07"
      },
      "outputs": [],
      "source": [
        "from torch.utils.data import DataLoader\n",
        "from torchvision import datasets, transforms"
      ]
    },
    {
      "cell_type": "code",
      "execution_count": 5,
      "metadata": {
        "id": "LSbeYqTeP-Dq"
      },
      "outputs": [],
      "source": [
        "from garden_ai import GardenClient"
      ]
    },
    {
      "cell_type": "code",
      "execution_count": 3,
      "metadata": {
        "id": "cM4gyoVbPMHX"
      },
      "outputs": [],
      "source": [
        "def get_a_test_image_batch():\n",
        "    transform = transforms.Compose([transforms.ToTensor(), transforms.Normalize((0.1307,), (0.3081,))])\n",
        "    test_dataset = datasets.MNIST(root='./data', train=False, transform=transform, download=True)\n",
        "    test_loader = DataLoader(test_dataset, batch_size=64, shuffle=True)\n",
        "    data, target = next(iter(test_loader))\n",
        "    return data, target"
      ]
    },
    {
      "cell_type": "code",
      "execution_count": null,
      "metadata": {
        "id": "AXz4XKhdP2d2"
      },
      "outputs": [],
      "source": [
        "test_image_batch, expected_result_batch = get_a_test_image_batch()"
      ]
    },
    {
      "cell_type": "code",
      "execution_count": null,
      "metadata": {
        "id": "rHvyBjxjP8Py"
      },
      "outputs": [],
      "source": [
        "gc = GardenClient()"
      ]
    },
    {
      "cell_type": "code",
      "execution_count": 7,
      "metadata": {
        "id": "QBUvKMNvQCTW"
      },
      "outputs": [],
      "source": [
        "mnist_example_garden = gc.get_published_garden('10.23677/crbc-v840')"
      ]
    },
    {
      "cell_type": "code",
      "execution_count": 8,
      "metadata": {
        "id": "rZyv3bdtQMlv"
      },
      "outputs": [],
      "source": [
        "classified_digits = mnist_example_garden.classify_digits_mnist(test_image_batch)"
      ]
    },
    {
      "cell_type": "code",
      "execution_count": 9,
      "metadata": {
        "colab": {
          "base_uri": "https://localhost:8080/"
        },
        "id": "rs5we84BRypg",
        "outputId": "3981eca9-e5c6-423c-b677-1e69eda13228"
      },
      "outputs": [
        {
          "name": "stdout",
          "output_type": "stream",
          "text": [
            "Classified 64 digits\n",
            "Accuracy: tensor(0.9844)\n"
          ]
        }
      ],
      "source": [
        "print(f\"Classified {len(classified_digits)} digits\")\n",
        "print(\"Accuracy:\", (classified_digits == expected_result_batch).sum()/len(classified_digits))"
      ]
    },
    {
      "cell_type": "code",
      "execution_count": null,
      "metadata": {
        "id": "Cxms7IcLSUXp"
      },
      "outputs": [],
      "source": []
    }
  ],
  "metadata": {
    "colab": {
      "provenance": []
    },
    "kernelspec": {
      "display_name": "Python 3",
      "name": "python3"
    },
    "language_info": {
      "name": "python"
    }
  },
  "nbformat": 4,
  "nbformat_minor": 0
}
