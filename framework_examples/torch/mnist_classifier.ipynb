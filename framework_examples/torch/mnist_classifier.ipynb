{
 "cells": [
  {
   "cell_type": "markdown",
   "metadata": {
    "id": "H24yDUiVP5-n"
   },
   "source": [
    "## Your Model 🌱Garden🌱 Execution Environment\n",
    "\n",
    "Use this notebook to write a function that executes your model(s). Tag that function with the `@garden_pipeline` decorator.\n",
    "\n",
    "Garden will take this notebook and build a container with it. When Garden executes your `@garden_pipeline`, it will be like like you have just run all the cells of this notebook once. So you can install libraries with `!pip install` and your function can use those libraries. You can also define helper functions and constants to use in your `@garden_pipeline`."
   ]
  },
  {
   "cell_type": "code",
   "execution_count": null,
   "metadata": {
    "scrolled": true
   },
   "outputs": [],
   "source": [
    "!pip install git+https://github.com/Garden-AI/garden.git@a33dae1226ba258f27f6fbcc76c3d120f22c9a34"
   ]
  },
  {
   "cell_type": "code",
   "execution_count": 2,
   "metadata": {
    "id": "qww1_jOzP5S9"
   },
   "outputs": [],
   "source": [
    "from garden_ai.model_connectors import HFConnector\n",
    "from garden_ai import PipelineMetadata, garden_pipeline"
   ]
  },
  {
   "cell_type": "code",
   "execution_count": 3,
   "metadata": {
    "id": "b0s7Bealdp8M"
   },
   "outputs": [],
   "source": [
    "import torch\n",
    "from torch.utils.data import DataLoader\n",
    "from torchvision import datasets, transforms"
   ]
  },
  {
   "cell_type": "markdown",
   "metadata": {
    "id": "3aikfsCRdrEZ"
   },
   "source": [
    "### Model connectors\n",
    "\n",
    "Model connectors let Garden import metadata about your model.\n",
    "They also have a `stage` method that you can use to download your model weights."
   ]
  },
  {
   "cell_type": "code",
   "execution_count": null,
   "metadata": {
    "id": "H7em6SwMdvkt"
   },
   "outputs": [],
   "source": [
    "my_hugging_face_repo = HFConnector(\"willengler-uc/torch-mnist\")"
   ]
  },
  {
   "cell_type": "markdown",
   "metadata": {
    "id": "FTziKOq7d1Qs"
   },
   "source": [
    "### Pipeline metadata\n",
    "\n",
    "\n",
    "To publish your function, Garden needs metadata so that other users can discover it.\n",
    "Edit this PipelineMetadata object to describe your function.\n"
   ]
  },
  {
   "cell_type": "code",
   "execution_count": 5,
   "metadata": {
    "id": "PHtZD33NhCEF"
   },
   "outputs": [],
   "source": [
    "my_pipeline_meta = PipelineMetadata(\n",
    "    title=\"MNIST Digit Classsifier\",\n",
    "    description=\"Example of a PyTorch model in Garden, using the MNIST digit classification problem\",\n",
    "    authors=[\"Will Engler\"],\n",
    ")"
   ]
  },
  {
   "cell_type": "markdown",
   "metadata": {
    "id": "gnNDYs4PhKKO"
   },
   "source": [
    "### Helper Functions\n",
    "\n",
    "Define any helper functions you need and use them in the function you want to let people run remotely"
   ]
  },
  {
   "cell_type": "code",
   "execution_count": 10,
   "metadata": {
    "id": "hhd9FNB9hN0a"
   },
   "outputs": [],
   "source": [
    "def get_a_test_image_batch():\n",
    "    transform = transforms.Compose([transforms.ToTensor(), transforms.Normalize((0.1307,), (0.3081,))])\n",
    "    test_dataset = datasets.MNIST(root='./data', train=False, transform=transform, download=True)\n",
    "    test_loader = DataLoader(test_dataset, batch_size=64, shuffle=True)\n",
    "    data, target = next(iter(test_loader))\n",
    "    return data, target"
   ]
  },
  {
   "cell_type": "markdown",
   "metadata": {
    "id": "bDPkWjAShSKr"
   },
   "source": [
    "### Write your pipeline function that will run remotely\n",
    "\n",
    "The `@garden_pipeline` decorator makes this function available to run in your garden when you publish the notebook.\n",
    "Download your model weights and call your model in this function.\n",
    "\n",
    "In the decorator be sure to include:\n",
    "- your pipeline metadata,\n",
    "- connectors for any models you're using,\n",
    "- the DOI of the garden you want this pipeline to be found in. (Check `garden-ai garden list` for the DOIs of your gardens.)"
   ]
  },
  {
   "cell_type": "code",
   "execution_count": 15,
   "metadata": {
    "id": "6ls-44Wehec9"
   },
   "outputs": [],
   "source": [
    "@garden_pipeline(metadata=my_pipeline_meta,  model_connectors=[my_hugging_face_repo], garden_doi=\"10.23677/crbc-v840\")\n",
    "def classify_digits_mnist(image_batch):    \n",
    "    download_path = my_hugging_face_repo.stage()\n",
    "    from mnist_model import Net\n",
    "    model = Net()\n",
    "    model.load_state_dict(torch.load(download_path + \"/mnist_model.pt\"))\n",
    "    model.eval()\n",
    "\n",
    "    with torch.no_grad():\n",
    "        output = model(image_batch)\n",
    "        as_digits = output.data.max(1)[1]\n",
    "\n",
    "    return as_digits"
   ]
  },
  {
   "cell_type": "markdown",
   "metadata": {
    "id": "dK3PHq2fhgxp"
   },
   "source": [
    "### Test your pipeline function\n",
    "\n",
    "Finally, make sure your `@garden_pipeline` works!\n",
    "When Garden makes a container from your notebook, it runs all the cells in order and saves the notebook. Then users invoke your `@garden_pipeline` in the context of the notebook.\n",
    "\n",
    "If you can hit \"Kernel\" -> \"Restart and run all cells\" and your test below works, your `@garden_pipeline` will work in your garden!\n"
   ]
  },
  {
   "cell_type": "code",
   "execution_count": 17,
   "metadata": {
    "id": "pn2aa8wnhu2u"
   },
   "outputs": [],
   "source": [
    "def test_pipeline():\n",
    "    test_image_batch, expected_result_batch = get_a_test_image_batch()\n",
    "    classified_digits = classify_digits(test_image_batch)\n",
    "    print (f\"Classified {len(classified_digits)} digits\")\n",
    "    print(\"Accuracy:\", (classified_digits == expected_result_batch).sum()/len(classified_digits))"
   ]
  },
  {
   "cell_type": "code",
   "execution_count": null,
   "metadata": {
    "id": "A9-UTFHAmCEq"
   },
   "outputs": [],
   "source": [
    "#test_pipeline()"
   ]
  },
  {
   "cell_type": "code",
   "execution_count": null,
   "metadata": {},
   "outputs": [],
   "source": []
  }
 ],
 "metadata": {
  "colab": {
   "provenance": []
  },
  "kernelspec": {
   "display_name": "Python 3 (ipykernel)",
   "language": "python",
   "name": "python3"
  },
  "language_info": {
   "codemirror_mode": {
    "name": "ipython",
    "version": 3
   },
   "file_extension": ".py",
   "mimetype": "text/x-python",
   "name": "python",
   "nbconvert_exporter": "python",
   "pygments_lexer": "ipython3",
   "version": "3.10.12"
  }
 },
 "nbformat": 4,
 "nbformat_minor": 4
}
