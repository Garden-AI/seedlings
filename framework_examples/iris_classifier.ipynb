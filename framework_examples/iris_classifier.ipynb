{
 "cells": [
  {
   "cell_type": "code",
   "execution_count": 2,
   "metadata": {},
   "outputs": [
    {
     "name": "stdout",
     "output_type": "stream",
     "text": [
      "Collecting git+https://github.com/Garden-AI/garden.git@eec67b3d211d966ae2482edc30a0102af9d2f116\n",
      "  Cloning https://github.com/Garden-AI/garden.git (to revision eec67b3d211d966ae2482edc30a0102af9d2f116) to /tmp/pip-req-build-1budome6\n",
      "  Running command git clone --filter=blob:none --quiet https://github.com/Garden-AI/garden.git /tmp/pip-req-build-1budome6\n",
      "  Running command git rev-parse -q --verify 'sha^eec67b3d211d966ae2482edc30a0102af9d2f116'\n",
      "  Running command git fetch -q https://github.com/Garden-AI/garden.git eec67b3d211d966ae2482edc30a0102af9d2f116\n",
      "  Resolved https://github.com/Garden-AI/garden.git to commit eec67b3d211d966ae2482edc30a0102af9d2f116\n",
      "  Installing build dependencies ... \u001b[?25ldone\n",
      "\u001b[?25h  Getting requirements to build wheel ... \u001b[?25ldone\n",
      "\u001b[?25h  Preparing metadata (pyproject.toml) ... \u001b[?25ldone\n",
      "\u001b[?25hCollecting cryptography<42.0.0,>=41.0.3 (from garden-ai==0.0.0)\n",
      "  Downloading cryptography-41.0.5-cp37-abi3-manylinux_2_28_x86_64.whl (4.4 MB)\n",
      "\u001b[2K     \u001b[90m━━━━━━━━━━━━━━━━━━━━━━━━━━━━━━━━━━━━━━━━\u001b[0m \u001b[32m4.4/4.4 MB\u001b[0m \u001b[31m18.7 MB/s\u001b[0m eta \u001b[36m0:00:00\u001b[0ma \u001b[36m0:00:01\u001b[0m\n",
      "\u001b[?25hCollecting docker<7.0.0,>=6.1.3 (from garden-ai==0.0.0)\n",
      "  Downloading docker-6.1.3-py3-none-any.whl (148 kB)\n",
      "\u001b[2K     \u001b[90m━━━━━━━━━━━━━━━━━━━━━━━━━━━━━━━━━━━━━━\u001b[0m \u001b[32m148.1/148.1 kB\u001b[0m \u001b[31m17.9 MB/s\u001b[0m eta \u001b[36m0:00:00\u001b[0m\n",
      "\u001b[?25hCollecting gitpython<4.0.0,>=3.1.35 (from garden-ai==0.0.0)\n",
      "  Downloading GitPython-3.1.40-py3-none-any.whl (190 kB)\n",
      "\u001b[2K     \u001b[90m━━━━━━━━━━━━━━━━━━━━━━━━━━━━━━━━━━━━━━\u001b[0m \u001b[32m190.6/190.6 kB\u001b[0m \u001b[31m21.2 MB/s\u001b[0m eta \u001b[36m0:00:00\u001b[0m\n",
      "\u001b[?25hCollecting globus-compute-sdk<3.0.0,>=2.2.0 (from garden-ai==0.0.0)\n",
      "  Downloading globus_compute_sdk-2.7.0-py3-none-any.whl (54 kB)\n",
      "\u001b[2K     \u001b[90m━━━━━━━━━━━━━━━━━━━━━━━━━━━━━━━━━━━━━━━━\u001b[0m \u001b[32m54.0/54.0 kB\u001b[0m \u001b[31m9.0 MB/s\u001b[0m eta \u001b[36m0:00:00\u001b[0m\n",
      "\u001b[?25hCollecting globus-sdk<4.0.0,>=3.12.0 (from garden-ai==0.0.0)\n",
      "  Downloading globus_sdk-3.31.0-py3-none-any.whl (268 kB)\n",
      "\u001b[2K     \u001b[90m━━━━━━━━━━━━━━━━━━━━━━━━━━━━━━━━━━━━━━\u001b[0m \u001b[32m268.7/268.7 kB\u001b[0m \u001b[31m22.6 MB/s\u001b[0m eta \u001b[36m0:00:00\u001b[0m\n",
      "\u001b[?25hCollecting huggingface-hub==0.18.0 (from garden-ai==0.0.0)\n",
      "  Downloading huggingface_hub-0.18.0-py3-none-any.whl (301 kB)\n",
      "\u001b[2K     \u001b[90m━━━━━━━━━━━━━━━━━━━━━━━━━━━━━━━━━━━━━━\u001b[0m \u001b[32m302.0/302.0 kB\u001b[0m \u001b[31m23.3 MB/s\u001b[0m eta \u001b[36m0:00:00\u001b[0m\n",
      "\u001b[?25hCollecting ipython<8.13 (from garden-ai==0.0.0)\n",
      "  Downloading ipython-8.12.3-py3-none-any.whl (798 kB)\n",
      "\u001b[2K     \u001b[90m━━━━━━━━━━━━━━━━━━━━━━━━━━━━━━━━━━━━━━\u001b[0m \u001b[32m798.3/798.3 kB\u001b[0m \u001b[31m29.5 MB/s\u001b[0m eta \u001b[36m0:00:00\u001b[0m\n",
      "\u001b[?25hRequirement already satisfied: jinja2<4.0.0,>=3.1.2 in /opt/conda/lib/python3.10/site-packages (from garden-ai==0.0.0) (3.1.2)\n",
      "Requirement already satisfied: nbconvert<8.0.0,>=7.9.2 in /opt/conda/lib/python3.10/site-packages (from garden-ai==0.0.0) (7.9.2)\n",
      "Requirement already satisfied: nbformat<6.0.0,>=5.9.2 in /opt/conda/lib/python3.10/site-packages (from garden-ai==0.0.0) (5.9.2)\n",
      "Requirement already satisfied: packaging<24.0,>=23.0 in /opt/conda/lib/python3.10/site-packages (from garden-ai==0.0.0) (23.0)\n",
      "Collecting pydantic<2.0.0,>=1.10.13 (from garden-ai==0.0.0)\n",
      "  Downloading pydantic-1.10.13-cp310-cp310-manylinux_2_17_x86_64.manylinux2014_x86_64.whl (3.1 MB)\n",
      "\u001b[2K     \u001b[90m━━━━━━━━━━━━━━━━━━━━━━━━━━━━━━━━━━━━━━━━\u001b[0m \u001b[32m3.1/3.1 MB\u001b[0m \u001b[31m30.6 MB/s\u001b[0m eta \u001b[36m0:00:00\u001b[0ma \u001b[36m0:00:01\u001b[0m\n",
      "\u001b[?25hRequirement already satisfied: pyyaml<7.0,>=6.0 in /opt/conda/lib/python3.10/site-packages (from garden-ai==0.0.0) (6.0.1)\n",
      "Requirement already satisfied: requests<3.0.0,>=2.20.0 in /opt/conda/lib/python3.10/site-packages (from garden-ai==0.0.0) (2.31.0)\n",
      "Collecting tabulate<0.10.0,>=0.9.0 (from garden-ai==0.0.0)\n",
      "  Downloading tabulate-0.9.0-py3-none-any.whl (35 kB)\n",
      "Collecting typer[all]<0.8.0,>=0.7.0 (from garden-ai==0.0.0)\n",
      "  Downloading typer-0.7.0-py3-none-any.whl (38 kB)\n",
      "Collecting types-tabulate<0.10.0.0,>=0.9.0.3 (from garden-ai==0.0.0)\n",
      "  Downloading types_tabulate-0.9.0.3-py3-none-any.whl (3.2 kB)\n",
      "Collecting filelock (from huggingface-hub==0.18.0->garden-ai==0.0.0)\n",
      "  Downloading filelock-3.13.1-py3-none-any.whl (11 kB)\n",
      "Collecting fsspec>=2023.5.0 (from huggingface-hub==0.18.0->garden-ai==0.0.0)\n",
      "  Downloading fsspec-2023.10.0-py3-none-any.whl (166 kB)\n",
      "\u001b[2K     \u001b[90m━━━━━━━━━━━━━━━━━━━━━━━━━━━━━━━━━━━━━━\u001b[0m \u001b[32m166.4/166.4 kB\u001b[0m \u001b[31m20.1 MB/s\u001b[0m eta \u001b[36m0:00:00\u001b[0m\n",
      "\u001b[?25hRequirement already satisfied: tqdm>=4.42.1 in /opt/conda/lib/python3.10/site-packages (from huggingface-hub==0.18.0->garden-ai==0.0.0) (4.65.0)\n",
      "Requirement already satisfied: typing-extensions>=3.7.4.3 in /opt/conda/lib/python3.10/site-packages (from huggingface-hub==0.18.0->garden-ai==0.0.0) (4.8.0)\n",
      "Requirement already satisfied: cffi>=1.12 in /opt/conda/lib/python3.10/site-packages (from cryptography<42.0.0,>=41.0.3->garden-ai==0.0.0) (1.15.1)\n",
      "Requirement already satisfied: urllib3>=1.26.0 in /opt/conda/lib/python3.10/site-packages (from docker<7.0.0,>=6.1.3->garden-ai==0.0.0) (1.26.16)\n",
      "Requirement already satisfied: websocket-client>=0.32.0 in /opt/conda/lib/python3.10/site-packages (from docker<7.0.0,>=6.1.3->garden-ai==0.0.0) (1.6.4)\n",
      "Collecting gitdb<5,>=4.0.1 (from gitpython<4.0.0,>=3.1.35->garden-ai==0.0.0)\n",
      "  Downloading gitdb-4.0.11-py3-none-any.whl (62 kB)\n",
      "\u001b[2K     \u001b[90m━━━━━━━━━━━━━━━━━━━━━━━━━━━━━━━━━━━━━━━━\u001b[0m \u001b[32m62.7/62.7 kB\u001b[0m \u001b[31m9.6 MB/s\u001b[0m eta \u001b[36m0:00:00\u001b[0m\n",
      "\u001b[?25hCollecting globus-compute-common==0.3.0 (from globus-compute-sdk<3.0.0,>=2.2.0->garden-ai==0.0.0)\n",
      "  Downloading globus_compute_common-0.3.0-py3-none-any.whl (34 kB)\n",
      "Collecting websockets==10.3 (from globus-compute-sdk<3.0.0,>=2.2.0->garden-ai==0.0.0)\n",
      "  Downloading websockets-10.3-cp310-cp310-manylinux_2_5_x86_64.manylinux1_x86_64.manylinux_2_12_x86_64.manylinux2010_x86_64.whl (111 kB)\n",
      "\u001b[2K     \u001b[90m━━━━━━━━━━━━━━━━━━━━━━━━━━━━━━━━━━━━━━\u001b[0m \u001b[32m111.5/111.5 kB\u001b[0m \u001b[31m14.9 MB/s\u001b[0m eta \u001b[36m0:00:00\u001b[0m\n",
      "\u001b[?25hCollecting pika>=1.2 (from globus-compute-sdk<3.0.0,>=2.2.0->garden-ai==0.0.0)\n",
      "  Downloading pika-1.3.2-py3-none-any.whl (155 kB)\n",
      "\u001b[2K     \u001b[90m━━━━━━━━━━━━━━━━━━━━━━━━━━━━━━━━━━━━━━\u001b[0m \u001b[32m155.4/155.4 kB\u001b[0m \u001b[31m18.9 MB/s\u001b[0m eta \u001b[36m0:00:00\u001b[0m\n",
      "\u001b[?25hCollecting tblib==1.7.0 (from globus-compute-sdk<3.0.0,>=2.2.0->garden-ai==0.0.0)\n",
      "  Downloading tblib-1.7.0-py2.py3-none-any.whl (12 kB)\n",
      "Collecting texttable>=1.6.7 (from globus-compute-sdk<3.0.0,>=2.2.0->garden-ai==0.0.0)\n",
      "  Downloading texttable-1.7.0-py2.py3-none-any.whl (10 kB)\n",
      "Requirement already satisfied: dill==0.3.5.1 in /opt/conda/lib/python3.10/site-packages (from globus-compute-sdk<3.0.0,>=2.2.0->garden-ai==0.0.0) (0.3.5.1)\n",
      "Collecting pyjwt[crypto]<3.0.0,>=2.0.0 (from globus-sdk<4.0.0,>=3.12.0->garden-ai==0.0.0)\n",
      "  Downloading PyJWT-2.8.0-py3-none-any.whl (22 kB)\n",
      "Requirement already satisfied: backcall in /opt/conda/lib/python3.10/site-packages (from ipython<8.13->garden-ai==0.0.0) (0.2.0)\n",
      "Requirement already satisfied: decorator in /opt/conda/lib/python3.10/site-packages (from ipython<8.13->garden-ai==0.0.0) (5.1.1)\n",
      "Requirement already satisfied: jedi>=0.16 in /opt/conda/lib/python3.10/site-packages (from ipython<8.13->garden-ai==0.0.0) (0.19.1)\n",
      "Requirement already satisfied: matplotlib-inline in /opt/conda/lib/python3.10/site-packages (from ipython<8.13->garden-ai==0.0.0) (0.1.6)\n",
      "Requirement already satisfied: pickleshare in /opt/conda/lib/python3.10/site-packages (from ipython<8.13->garden-ai==0.0.0) (0.7.5)\n",
      "Requirement already satisfied: prompt-toolkit!=3.0.37,<3.1.0,>=3.0.30 in /opt/conda/lib/python3.10/site-packages (from ipython<8.13->garden-ai==0.0.0) (3.0.39)\n",
      "Requirement already satisfied: pygments>=2.4.0 in /opt/conda/lib/python3.10/site-packages (from ipython<8.13->garden-ai==0.0.0) (2.16.1)\n",
      "Requirement already satisfied: stack-data in /opt/conda/lib/python3.10/site-packages (from ipython<8.13->garden-ai==0.0.0) (0.6.3)\n",
      "Requirement already satisfied: traitlets>=5 in /opt/conda/lib/python3.10/site-packages (from ipython<8.13->garden-ai==0.0.0) (5.11.2)\n",
      "Requirement already satisfied: pexpect>4.3 in /opt/conda/lib/python3.10/site-packages (from ipython<8.13->garden-ai==0.0.0) (4.8.0)\n",
      "Requirement already satisfied: MarkupSafe>=2.0 in /opt/conda/lib/python3.10/site-packages (from jinja2<4.0.0,>=3.1.2->garden-ai==0.0.0) (2.1.3)\n",
      "Requirement already satisfied: beautifulsoup4 in /opt/conda/lib/python3.10/site-packages (from nbconvert<8.0.0,>=7.9.2->garden-ai==0.0.0) (4.12.2)\n",
      "Requirement already satisfied: bleach!=5.0.0 in /opt/conda/lib/python3.10/site-packages (from nbconvert<8.0.0,>=7.9.2->garden-ai==0.0.0) (6.1.0)\n",
      "Requirement already satisfied: defusedxml in /opt/conda/lib/python3.10/site-packages (from nbconvert<8.0.0,>=7.9.2->garden-ai==0.0.0) (0.7.1)\n",
      "Requirement already satisfied: jupyter-core>=4.7 in /opt/conda/lib/python3.10/site-packages (from nbconvert<8.0.0,>=7.9.2->garden-ai==0.0.0) (5.4.0)\n",
      "Requirement already satisfied: jupyterlab-pygments in /opt/conda/lib/python3.10/site-packages (from nbconvert<8.0.0,>=7.9.2->garden-ai==0.0.0) (0.2.2)\n",
      "Requirement already satisfied: mistune<4,>=2.0.3 in /opt/conda/lib/python3.10/site-packages (from nbconvert<8.0.0,>=7.9.2->garden-ai==0.0.0) (3.0.2)\n",
      "Requirement already satisfied: nbclient>=0.5.0 in /opt/conda/lib/python3.10/site-packages (from nbconvert<8.0.0,>=7.9.2->garden-ai==0.0.0) (0.8.0)\n",
      "Requirement already satisfied: pandocfilters>=1.4.1 in /opt/conda/lib/python3.10/site-packages (from nbconvert<8.0.0,>=7.9.2->garden-ai==0.0.0) (1.5.0)\n",
      "Requirement already satisfied: tinycss2 in /opt/conda/lib/python3.10/site-packages (from nbconvert<8.0.0,>=7.9.2->garden-ai==0.0.0) (1.2.1)\n",
      "Requirement already satisfied: fastjsonschema in /opt/conda/lib/python3.10/site-packages (from nbformat<6.0.0,>=5.9.2->garden-ai==0.0.0) (2.18.1)\n",
      "Requirement already satisfied: jsonschema>=2.6 in /opt/conda/lib/python3.10/site-packages (from nbformat<6.0.0,>=5.9.2->garden-ai==0.0.0) (4.19.1)\n",
      "Requirement already satisfied: charset-normalizer<4,>=2 in /opt/conda/lib/python3.10/site-packages (from requests<3.0.0,>=2.20.0->garden-ai==0.0.0) (2.0.4)\n",
      "Requirement already satisfied: idna<4,>=2.5 in /opt/conda/lib/python3.10/site-packages (from requests<3.0.0,>=2.20.0->garden-ai==0.0.0) (3.4)\n",
      "Requirement already satisfied: certifi>=2017.4.17 in /opt/conda/lib/python3.10/site-packages (from requests<3.0.0,>=2.20.0->garden-ai==0.0.0) (2023.5.7)\n",
      "Collecting click<9.0.0,>=7.1.1 (from typer[all]<0.8.0,>=0.7.0->garden-ai==0.0.0)\n",
      "  Downloading click-8.1.7-py3-none-any.whl (97 kB)\n",
      "\u001b[2K     \u001b[90m━━━━━━━━━━━━━━━━━━━━━━━━━━━━━━━━━━━━━━━━\u001b[0m \u001b[32m97.9/97.9 kB\u001b[0m \u001b[31m13.8 MB/s\u001b[0m eta \u001b[36m0:00:00\u001b[0m\n",
      "\u001b[?25hCollecting colorama<0.5.0,>=0.4.3 (from typer[all]<0.8.0,>=0.7.0->garden-ai==0.0.0)\n",
      "  Downloading colorama-0.4.6-py2.py3-none-any.whl (25 kB)\n",
      "Collecting shellingham<2.0.0,>=1.3.0 (from typer[all]<0.8.0,>=0.7.0->garden-ai==0.0.0)\n",
      "  Downloading shellingham-1.5.4-py2.py3-none-any.whl (9.8 kB)\n",
      "Collecting rich<13.0.0,>=10.11.0 (from typer[all]<0.8.0,>=0.7.0->garden-ai==0.0.0)\n",
      "  Downloading rich-12.6.0-py3-none-any.whl (237 kB)\n",
      "\u001b[2K     \u001b[90m━━━━━━━━━━━━━━━━━━━━━━━━━━━━━━━━━━━━━━\u001b[0m \u001b[32m237.5/237.5 kB\u001b[0m \u001b[31m20.2 MB/s\u001b[0m eta \u001b[36m0:00:00\u001b[0m\n",
      "\u001b[?25hRequirement already satisfied: six>=1.9.0 in /opt/conda/lib/python3.10/site-packages (from bleach!=5.0.0->nbconvert<8.0.0,>=7.9.2->garden-ai==0.0.0) (1.16.0)\n",
      "Requirement already satisfied: webencodings in /opt/conda/lib/python3.10/site-packages (from bleach!=5.0.0->nbconvert<8.0.0,>=7.9.2->garden-ai==0.0.0) (0.5.1)\n",
      "Requirement already satisfied: pycparser in /opt/conda/lib/python3.10/site-packages (from cffi>=1.12->cryptography<42.0.0,>=41.0.3->garden-ai==0.0.0) (2.21)\n",
      "Collecting smmap<6,>=3.0.1 (from gitdb<5,>=4.0.1->gitpython<4.0.0,>=3.1.35->garden-ai==0.0.0)\n",
      "  Downloading smmap-5.0.1-py3-none-any.whl (24 kB)\n",
      "Requirement already satisfied: parso<0.9.0,>=0.8.3 in /opt/conda/lib/python3.10/site-packages (from jedi>=0.16->ipython<8.13->garden-ai==0.0.0) (0.8.3)\n",
      "Requirement already satisfied: attrs>=22.2.0 in /opt/conda/lib/python3.10/site-packages (from jsonschema>=2.6->nbformat<6.0.0,>=5.9.2->garden-ai==0.0.0) (23.1.0)\n",
      "Requirement already satisfied: jsonschema-specifications>=2023.03.6 in /opt/conda/lib/python3.10/site-packages (from jsonschema>=2.6->nbformat<6.0.0,>=5.9.2->garden-ai==0.0.0) (2023.7.1)\n",
      "Requirement already satisfied: referencing>=0.28.4 in /opt/conda/lib/python3.10/site-packages (from jsonschema>=2.6->nbformat<6.0.0,>=5.9.2->garden-ai==0.0.0) (0.30.2)\n",
      "Requirement already satisfied: rpds-py>=0.7.1 in /opt/conda/lib/python3.10/site-packages (from jsonschema>=2.6->nbformat<6.0.0,>=5.9.2->garden-ai==0.0.0) (0.10.6)\n",
      "Requirement already satisfied: platformdirs>=2.5 in /opt/conda/lib/python3.10/site-packages (from jupyter-core>=4.7->nbconvert<8.0.0,>=7.9.2->garden-ai==0.0.0) (3.11.0)\n",
      "Requirement already satisfied: jupyter-client>=6.1.12 in /opt/conda/lib/python3.10/site-packages (from nbclient>=0.5.0->nbconvert<8.0.0,>=7.9.2->garden-ai==0.0.0) (8.4.0)\n",
      "Requirement already satisfied: ptyprocess>=0.5 in /opt/conda/lib/python3.10/site-packages (from pexpect>4.3->ipython<8.13->garden-ai==0.0.0) (0.7.0)\n",
      "Requirement already satisfied: wcwidth in /opt/conda/lib/python3.10/site-packages (from prompt-toolkit!=3.0.37,<3.1.0,>=3.0.30->ipython<8.13->garden-ai==0.0.0) (0.2.8)\n",
      "Collecting commonmark<0.10.0,>=0.9.0 (from rich<13.0.0,>=10.11.0->typer[all]<0.8.0,>=0.7.0->garden-ai==0.0.0)\n",
      "  Downloading commonmark-0.9.1-py2.py3-none-any.whl (51 kB)\n",
      "\u001b[2K     \u001b[90m━━━━━━━━━━━━━━━━━━━━━━━━━━━━━━━━━━━━━━━━\u001b[0m \u001b[32m51.1/51.1 kB\u001b[0m \u001b[31m10.1 MB/s\u001b[0m eta \u001b[36m0:00:00\u001b[0m\n",
      "\u001b[?25hRequirement already satisfied: soupsieve>1.2 in /opt/conda/lib/python3.10/site-packages (from beautifulsoup4->nbconvert<8.0.0,>=7.9.2->garden-ai==0.0.0) (2.5)\n",
      "Requirement already satisfied: executing>=1.2.0 in /opt/conda/lib/python3.10/site-packages (from stack-data->ipython<8.13->garden-ai==0.0.0) (2.0.0)\n",
      "Requirement already satisfied: asttokens>=2.1.0 in /opt/conda/lib/python3.10/site-packages (from stack-data->ipython<8.13->garden-ai==0.0.0) (2.4.0)\n",
      "Requirement already satisfied: pure-eval in /opt/conda/lib/python3.10/site-packages (from stack-data->ipython<8.13->garden-ai==0.0.0) (0.2.2)\n",
      "Requirement already satisfied: python-dateutil>=2.8.2 in /opt/conda/lib/python3.10/site-packages (from jupyter-client>=6.1.12->nbclient>=0.5.0->nbconvert<8.0.0,>=7.9.2->garden-ai==0.0.0) (2.8.2)\n",
      "Requirement already satisfied: pyzmq>=23.0 in /opt/conda/lib/python3.10/site-packages (from jupyter-client>=6.1.12->nbclient>=0.5.0->nbconvert<8.0.0,>=7.9.2->garden-ai==0.0.0) (25.1.1)\n",
      "Requirement already satisfied: tornado>=6.2 in /opt/conda/lib/python3.10/site-packages (from jupyter-client>=6.1.12->nbclient>=0.5.0->nbconvert<8.0.0,>=7.9.2->garden-ai==0.0.0) (6.3.3)\n",
      "Building wheels for collected packages: garden-ai\n",
      "  Building wheel for garden-ai (pyproject.toml) ... \u001b[?25ldone\n",
      "\u001b[?25h  Created wheel for garden-ai: filename=garden_ai-0.0.0-py3-none-any.whl size=58740 sha256=95cd6a18fd3e3018fd1d2f6832dc03e7354967efdedf279557744ea931dfa83b\n",
      "  Stored in directory: /root/.cache/pip/wheels/47/29/c3/12702c63965ab43961a00f5d1ede36e9c116886ad2b48df0e3\n",
      "Successfully built garden-ai\n",
      "Installing collected packages: types-tabulate, texttable, commonmark, websockets, tblib, tabulate, smmap, shellingham, rich, pyjwt, pydantic, pika, fsspec, filelock, colorama, click, typer, huggingface-hub, globus-compute-common, gitdb, docker, cryptography, ipython, gitpython, globus-sdk, globus-compute-sdk, garden-ai\n",
      "  Attempting uninstall: cryptography\n",
      "    Found existing installation: cryptography 39.0.1\n",
      "    Uninstalling cryptography-39.0.1:\n",
      "      Successfully uninstalled cryptography-39.0.1\n",
      "  Attempting uninstall: ipython\n",
      "    Found existing installation: ipython 8.16.1\n",
      "    Uninstalling ipython-8.16.1:\n",
      "      Successfully uninstalled ipython-8.16.1\n",
      "\u001b[31mERROR: pip's dependency resolver does not currently take into account all the packages that are installed. This behaviour is the source of the following dependency conflicts.\n",
      "pyopenssl 23.0.0 requires cryptography<40,>=38.0.0, but you have cryptography 41.0.5 which is incompatible.\u001b[0m\u001b[31m\n",
      "\u001b[0mSuccessfully installed click-8.1.7 colorama-0.4.6 commonmark-0.9.1 cryptography-41.0.5 docker-6.1.3 filelock-3.13.1 fsspec-2023.10.0 garden-ai-0.0.0 gitdb-4.0.11 gitpython-3.1.40 globus-compute-common-0.3.0 globus-compute-sdk-2.7.0 globus-sdk-3.31.0 huggingface-hub-0.18.0 ipython-8.12.3 pika-1.3.2 pydantic-1.10.13 pyjwt-2.8.0 rich-12.6.0 shellingham-1.5.4 smmap-5.0.1 tabulate-0.9.0 tblib-1.7.0 texttable-1.7.0 typer-0.7.0 types-tabulate-0.9.0.3 websockets-10.3\n",
      "\u001b[33mWARNING: Running pip as the 'root' user can result in broken permissions and conflicting behaviour with the system package manager. It is recommended to use a virtual environment instead: https://pip.pypa.io/warnings/venv\u001b[0m\u001b[33m\n",
      "\u001b[0m"
     ]
    }
   ],
   "source": [
    "!pip install git+https://github.com/Garden-AI/garden.git@eec67b3d211d966ae2482edc30a0102af9d2f116\n",
    "!pip install scikit-learn==\"1.2.2\""
   ]
  },
  {
   "cell_type": "code",
   "execution_count": 2,
   "metadata": {
    "id": "qww1_jOzP5S9"
   },
   "outputs": [],
   "source": [
    "from garden_ai.model_connectors import HFConnector\n",
    "from garden_ai import PipelineMetadata, garden_pipeline"
   ]
  },
  {
   "cell_type": "code",
   "execution_count": 1,
   "metadata": {
    "id": "b0s7Bealdp8M"
   },
   "outputs": [],
   "source": [
    "import pandas as pd\n",
    "import sklearn\n",
    "import joblib\n",
    "from typing import List"
   ]
  },
  {
   "cell_type": "code",
   "execution_count": 3,
   "metadata": {
    "id": "H7em6SwMdvkt"
   },
   "outputs": [],
   "source": [
    "my_hugging_face_repo = HFConnector(\"willengler-uc/iris-classifier\")"
   ]
  },
  {
   "cell_type": "code",
   "execution_count": 4,
   "metadata": {
    "id": "PHtZD33NhCEF"
   },
   "outputs": [],
   "source": [
    "my_pipeline_meta = PipelineMetadata(\n",
    "    title=\"Iris Classifier\",\n",
    "    description=\"A simple demonstration of how to host a scikit-learn model with Garden.\",\n",
    "    authors=[\"Will Engler\"],\n",
    "    tags=[\"scikit-learn\", \"tutorial\"]\n",
    ")"
   ]
  },
  {
   "cell_type": "code",
   "execution_count": 11,
   "metadata": {},
   "outputs": [],
   "source": [
    "IRIS_NAMES = ['setosa', 'versicolor', 'virginica']"
   ]
  },
  {
   "cell_type": "code",
   "execution_count": 9,
   "metadata": {
    "id": "6ls-44Wehec9"
   },
   "outputs": [],
   "source": [
    "@garden_pipeline(metadata=my_pipeline_meta,  model_connectors=[my_hugging_face_repo], garden_doi=\"10.23677/6k5t-v242\")\n",
    "def classify_irises(input_array: List) -> List:\n",
    "    download_path = my_hugging_face_repo.stage()\n",
    "    model = joblib.load(f\"{download_path}/model.joblib\")\n",
    "    predictions = model.predict(input_array)\n",
    "    as_strings = [IRIS_NAMES[prediction] for prediction in predictions]\n",
    "    return as_strings"
   ]
  },
  {
   "cell_type": "markdown",
   "metadata": {
    "id": "dK3PHq2fhgxp"
   },
   "source": [
    "### Test your pipeline function\n",
    "\n",
    "Finally, make sure your `@garden_pipeline` works!\n",
    "When Garden makes a container from your notebook, it runs all the cells in order and saves the notebook. Then users invoke your `@garden_pipeline` in the context of the notebook.\n",
    "\n",
    "If you can hit \"Kernel\" -> \"Restart and run all cells\" and your test below works, your `@garden_pipeline` will work in your garden!\n"
   ]
  },
  {
   "cell_type": "code",
   "execution_count": 12,
   "metadata": {
    "id": "pn2aa8wnhu2u"
   },
   "outputs": [
    {
     "data": {
      "application/vnd.jupyter.widget-view+json": {
       "model_id": "3b8040e382ff47a499e72f7fc43dfcaa",
       "version_major": 2,
       "version_minor": 0
      },
      "text/plain": [
       "Fetching 4 files:   0%|          | 0/4 [00:00<?, ?it/s]"
      ]
     },
     "metadata": {},
     "output_type": "display_data"
    },
    {
     "data": {
      "text/plain": [
       "['setosa']"
      ]
     },
     "execution_count": 12,
     "metadata": {},
     "output_type": "execute_result"
    }
   ],
   "source": [
    "# Replace with input that is relevant for your garden_pipeline\n",
    "example_input = [[5.1, 3.5, 1.4, 0.2]]\n",
    "classify_irises(example_input)"
   ]
  },
  {
   "cell_type": "code",
   "execution_count": null,
   "metadata": {
    "id": "A9-UTFHAmCEq"
   },
   "outputs": [],
   "source": []
  }
 ],
 "metadata": {
  "colab": {
   "provenance": []
  },
  "kernelspec": {
   "display_name": "Python 3 (ipykernel)",
   "language": "python",
   "name": "python3"
  },
  "language_info": {
   "codemirror_mode": {
    "name": "ipython",
    "version": 3
   },
   "file_extension": ".py",
   "mimetype": "text/x-python",
   "name": "python",
   "nbconvert_exporter": "python",
   "pygments_lexer": "ipython3",
   "version": "3.10.12"
  }
 },
 "nbformat": 4,
 "nbformat_minor": 4
}
