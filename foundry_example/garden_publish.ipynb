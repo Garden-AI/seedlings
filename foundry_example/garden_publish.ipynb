{
 "cells": [
  {
   "cell_type": "code",
   "execution_count": 1,
   "metadata": {},
   "outputs": [],
   "source": [
    "from garden_ai import GardenClient, Model, step\n",
    "from garden_ai.mlmodel import LocalModel"
   ]
  },
  {
   "cell_type": "code",
   "execution_count": 2,
   "metadata": {},
   "outputs": [],
   "source": [
    "# instantiate the Garden client\n",
    "client = GardenClient()"
   ]
  },
  {
   "cell_type": "code",
   "execution_count": 3,
   "metadata": {},
   "outputs": [],
   "source": [
    "# convert our saved model into a Garden LocalModel\n",
    "with open(\"requirements.txt\", \"r\") as f:\n",
    "    pip_reqs = [line.strip() for line in f.readlines()]\n",
    "\n",
    "local_model = LocalModel(model_name=\"dendrite_segmentation\",\n",
    "                         flavor=\"tensorflow\",\n",
    "                         extra_pip_requirements=pip_reqs,\n",
    "                         local_path=\"model.h5\",\n",
    "                         user_email=client.get_email())"
   ]
  },
  {
   "cell_type": "code",
   "execution_count": null,
   "metadata": {},
   "outputs": [],
   "source": [
    "# register the LocalModel with Garden using the client\n",
    "registered_model = client.register_model(local_model)"
   ]
  },
  {
   "cell_type": "code",
   "execution_count": 5,
   "metadata": {},
   "outputs": [],
   "source": [
    "# Garden's pipelines are composed of steps, so let's make one to run the model\n",
    "@step\n",
    "def run_inference(input_arg: object, model=Model(registered_model.model_uri)) -> object:\n",
    "    return model.predict(input_arg)"
   ]
  },
  {
   "cell_type": "code",
   "execution_count": null,
   "metadata": {},
   "outputs": [],
   "source": [
    "# add the step to a pipeline\n",
    "pipeline = client.create_pipeline([\"Isaac Darling\"],\n",
    "                                  \"Dendrite Segmentation Test Pipeline\",\n",
    "                                  short_name=registered_model.model_name,\n",
    "                                  steps=(run_inference,),\n",
    "                                  requirements_file=\"requirements.txt\",\n",
    "                                  description=\"Semantic dendrite segmentation via machine learning\",\n",
    "                                  tags=[\"materials science\",\n",
    "                                        \"x-ray\",\n",
    "                                        \"segmentation\",\n",
    "                                        \"computer vision\"])"
   ]
  },
  {
   "cell_type": "code",
   "execution_count": null,
   "metadata": {},
   "outputs": [],
   "source": [
    "# build a container designed specially to run the pipeline\n",
    "container_uuid = client.build_container(pipeline)"
   ]
  },
  {
   "cell_type": "code",
   "execution_count": 10,
   "metadata": {},
   "outputs": [
    {
     "name": "stdout",
     "output_type": "stream",
     "text": [
      "Created function with uuid: cf266298-49fe-48ac-b131-ac9259f8d220!\n"
     ]
    }
   ],
   "source": [
    "# register the pipeline and its encompassing container to Garden!\n",
    "func_uuid = client.register_pipeline(pipeline, container_uuid)\n",
    "print(f\"Created function with uuid: {func_uuid}!\")"
   ]
  },
  {
   "cell_type": "code",
   "execution_count": 11,
   "metadata": {},
   "outputs": [
    {
     "data": {
      "text/plain": [
       "'SUCCESS'"
      ]
     },
     "execution_count": 11,
     "metadata": {},
     "output_type": "execute_result"
    }
   ],
   "source": [
    "# create a garden and add the pipeline to it, then publish it to the search index\n",
    "garden = client.create_garden(pipeline.authors,\n",
    "                              pipeline.title,\n",
    "                              pipelines=[pipeline],\n",
    "                              description=pipeline.description,\n",
    "                              tags=pipeline.tags)\n",
    "\n",
    "client.publish_garden_metadata(garden)[\"state\"]"
   ]
  },
  {
   "cell_type": "code",
   "execution_count": 12,
   "metadata": {},
   "outputs": [
    {
     "data": {
      "text/plain": [
       "True"
      ]
     },
     "execution_count": 12,
     "metadata": {},
     "output_type": "execute_result"
    }
   ],
   "source": [
    "# confirm garden is searchable on the index\n",
    "garden == client.get_published_garden(garden.uuid)"
   ]
  }
 ],
 "metadata": {
  "kernelspec": {
   "display_name": "Python 3",
   "language": "python",
   "name": "python3"
  },
  "language_info": {
   "codemirror_mode": {
    "name": "ipython",
    "version": 3
   },
   "file_extension": ".py",
   "mimetype": "text/x-python",
   "name": "python",
   "nbconvert_exporter": "python",
   "pygments_lexer": "ipython3",
   "version": "3.10.8"
  },
  "orig_nbformat": 4
 },
 "nbformat": 4,
 "nbformat_minor": 2
}
