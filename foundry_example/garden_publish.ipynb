{
 "cells": [
  {
   "cell_type": "code",
   "execution_count": null,
   "metadata": {},
   "outputs": [],
   "source": [
    "import numpy as np\n",
    "import cv2\n",
    "\n",
    "from foundry import Foundry\n",
    "from garden_ai import GardenClient, Model, step\n",
    "from garden_ai.mlmodel import LocalModel"
   ]
  },
  {
   "cell_type": "code",
   "execution_count": null,
   "metadata": {},
   "outputs": [],
   "source": [
    "# instantiate the Garden client\n",
    "client = GardenClient()"
   ]
  },
  {
   "cell_type": "code",
   "execution_count": null,
   "metadata": {},
   "outputs": [],
   "source": [
    "# convert our saved model into a Garden LocalModel\n",
    "local_model = LocalModel(model_name=\"dendrite_segmentation\",\n",
    "                         flavor=\"tensorflow\",\n",
    "                         local_path=\"model.h5\",\n",
    "                         user_email=client.get_email())"
   ]
  },
  {
   "cell_type": "code",
   "execution_count": null,
   "metadata": {},
   "outputs": [],
   "source": [
    "# register the LocalModel with Garden using the client\n",
    "registered_model = client.register_model(local_model)"
   ]
  },
  {
   "cell_type": "code",
   "execution_count": null,
   "metadata": {},
   "outputs": [],
   "source": [
    "# Garden's pipelines are composed of steps, so let's make one to run the model\n",
    "@step\n",
    "def run_inference(input_arg: object, model=Model(registered_model.full_name)) -> object:\n",
    "    return model.predict(input_arg)"
   ]
  },
  {
   "cell_type": "code",
   "execution_count": null,
   "metadata": {},
   "outputs": [],
   "source": [
    "# add the step to a pipeline\n",
    "pipeline = client.create_pipeline([\"Isaac Darling\"],\n",
    "                                  \"Dendrite Segmentation Test Pipeline\",\n",
    "                                  short_name=registered_model.model_name,\n",
    "                                  steps=(run_inference,),\n",
    "                                  pip_dependencies=[\"tensorflow\"],\n",
    "                                  description=\"Semantic dendrite segmentation via machine learning\",\n",
    "                                  tags=[\"materials science\",\n",
    "                                        \"x-ray\",\n",
    "                                        \"segmentation\",\n",
    "                                        \"computer vision\"])"
   ]
  },
  {
   "cell_type": "code",
   "execution_count": null,
   "metadata": {},
   "outputs": [],
   "source": [
    "# register the pipeline with Garden!\n",
    "registered = client.register_pipeline(pipeline)\n",
    "registered"
   ]
  },
  {
   "cell_type": "code",
   "execution_count": null,
   "metadata": {},
   "outputs": [],
   "source": [
    "# create a garden and add the pipeline to it, then publish it to the search index\n",
    "garden = client.create_garden(registered.authors,\n",
    "                              registered.title,\n",
    "                              pipelines=[registered],\n",
    "                              pipeline_ids=[registered.doi],\n",
    "                              description=registered.description,\n",
    "                              tags=registered.tags)\n",
    "\n",
    "client.publish_garden_metadata(garden)"
   ]
  },
  {
   "cell_type": "code",
   "execution_count": null,
   "metadata": {},
   "outputs": [],
   "source": [
    "# confirm garden is searchable on the index\n",
    "print(garden == client.get_published_garden(garden.doi))\n",
    "garden"
   ]
  },
  {
   "cell_type": "code",
   "execution_count": null,
   "metadata": {},
   "outputs": [],
   "source": [
    "# load in foundry data\n",
    "f = Foundry(index=\"mdf\", no_local_server=False, no_browser=False)\n",
    "f.load(\"foundry_stan_segmentation_v1.1\", globus=True)\n",
    "\n",
    "res = f.load_data()\n",
    "X = res[\"train\"][\"input\"][\"train/input\"]\n",
    "\n",
    "new_size = 32*10\n",
    "X_r = np.array([cv2.resize(img, dsize=(new_size, new_size))\n",
    "     for img in X])"
   ]
  },
  {
   "cell_type": "code",
   "execution_count": null,
   "metadata": {},
   "outputs": [],
   "source": [
    "# run the pipeline!\n",
    "garden.dendrite_segmentation(X_r)"
   ]
  }
 ],
 "metadata": {
  "kernelspec": {
   "display_name": "Python 3",
   "language": "python",
   "name": "python3"
  },
  "language_info": {
   "codemirror_mode": {
    "name": "ipython",
    "version": 3
   },
   "file_extension": ".py",
   "mimetype": "text/x-python",
   "name": "python",
   "nbconvert_exporter": "python",
   "pygments_lexer": "ipython3",
   "version": "3.10.8"
  },
  "orig_nbformat": 4
 },
 "nbformat": 4,
 "nbformat_minor": 2
}
